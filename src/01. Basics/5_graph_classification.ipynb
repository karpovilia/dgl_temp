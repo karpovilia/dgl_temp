{
 "cells": [
  {
   "cell_type": "code",
   "execution_count": 1,
   "metadata": {},
   "outputs": [],
   "source": [
    "import os, sys\n",
    "import math\n",
    "from copy import deepcopy\n",
    "from pathlib import Path\n",
    "import numpy as np\n",
    "import pandas as pd\n",
    "from scipy import stats\n",
    "\n",
    "import torch as th\n",
    "import torch.nn as nn\n",
    "from torch import optim\n",
    "import torch.nn.functional as F\n",
    "\n",
    "import matplotlib.pyplot as plt\n",
    "%matplotlib inline"
   ]
  },
  {
   "cell_type": "code",
   "execution_count": null,
   "metadata": {},
   "outputs": [
    {
     "name": "stdout",
     "output_type": "stream",
     "text": [
      "Torch version: 2.0.1+cu117.  CUDA version: 11.7\n"
     ]
    }
   ],
   "source": [
    "print(f\"Torch version: {th.__version__}.  CUDA version: {th.version.cuda}\")"
   ]
  },
  {
   "cell_type": "code",
   "execution_count": null,
   "metadata": {},
   "outputs": [],
   "source": [
    "os.environ['DGLBACKEND'] = 'pytorch'\n",
    "import dgl\n",
    "from dgl.data import DGLDataset\n",
    "from dgl.dataloading import GraphDataLoader\n",
    "from torch.utils.data import Subset\n",
    "from torch.utils.data.sampler import SubsetRandomSampler\n",
    "\n",
    "import dgl.function as fn\n",
    "\n",
    "from ogb.graphproppred import DglGraphPropPredDataset, Evaluator\n",
    "from ogb.graphproppred.mol_encoder import BondEncoder, AtomEncoder"
   ]
  },
  {
   "cell_type": "code",
   "execution_count": 4,
   "metadata": {},
   "outputs": [
    {
     "data": {
      "text/plain": [
       "'0.9.1post1'"
      ]
     },
     "execution_count": 4,
     "metadata": {},
     "output_type": "execute_result"
    }
   ],
   "source": [
    "dgl.__version__"
   ]
  },
  {
   "cell_type": "code",
   "execution_count": 5,
   "metadata": {},
   "outputs": [
    {
     "data": {
      "text/plain": [
       "device(type='cuda')"
      ]
     },
     "execution_count": 5,
     "metadata": {},
     "output_type": "execute_result"
    }
   ],
   "source": [
    "device = 'cuda' if th.cuda.is_available() else 'cpu'\n",
    "device = th.device(device)\n",
    "device"
   ]
  },
  {
   "cell_type": "code",
   "execution_count": 6,
   "metadata": {},
   "outputs": [],
   "source": [
    "from utils import repeat_experiments, norm_plot, train, test"
   ]
  },
  {
   "cell_type": "code",
   "execution_count": 8,
   "metadata": {},
   "outputs": [],
   "source": [
    "# https://docs.dgl.ai/tutorials/blitz/6_load_data.html#creating-a-dataset-for-graph-classification-from-csv\n",
    "class MolHIVDataset(DGLDataset):\n",
    "    def __init__(self):\n",
    "        super().__init__(name='ogbg-molhiv')\n",
    "        \n",
    "    def _load(self):\n",
    "        self.dataset = DglGraphPropPredDataset(name=\"ogbg-molhiv\", root = 'dataset/')\n",
    "        self.split_idx = self.dataset.get_idx_split()\n",
    "        print(self.dataset.meta_info)\n",
    "        \n",
    "    def __getitem__(self, i):\n",
    "        return self.dataset.graphs[i], self.dataset.labels[i]\n",
    "\n",
    "    def __len__(self):\n",
    "        return len(self.dataset.graphs)"
   ]
  },
  {
   "cell_type": "code",
   "execution_count": 9,
   "metadata": {},
   "outputs": [
    {
     "name": "stdout",
     "output_type": "stream",
     "text": [
      "num tasks                                                                1\n",
      "eval metric                                                         rocauc\n",
      "download_name                                                          hiv\n",
      "version                                                                  1\n",
      "url                      http://snap.stanford.edu/ogb/data/graphproppre...\n",
      "add_inverse_edge                                                      True\n",
      "data type                                                              mol\n",
      "has_node_attr                                                         True\n",
      "has_edge_attr                                                         True\n",
      "task type                                            binary classification\n",
      "num classes                                                              2\n",
      "split                                                             scaffold\n",
      "additional node files                                                 None\n",
      "additional edge files                                                 None\n",
      "binary                                                               False\n",
      "Name: ogbg-molhiv, dtype: object\n"
     ]
    },
    {
     "data": {
      "text/plain": [
       "41127"
      ]
     },
     "execution_count": 9,
     "metadata": {},
     "output_type": "execute_result"
    }
   ],
   "source": [
    "dataset = MolHIVDataset()\n",
    "len(dataset) #41127"
   ]
  },
  {
   "cell_type": "code",
   "execution_count": 10,
   "metadata": {},
   "outputs": [],
   "source": [
    "# create train/val/test split dataloaders\n",
    "split_idx = dataset.split_idx\n",
    "\n",
    "train_sampler = SubsetRandomSampler(split_idx['train'])\n",
    "val_subset = Subset(dataset, split_idx['valid'])\n",
    "test_subset = Subset(dataset, split_idx['test'])\n"
   ]
  },
  {
   "cell_type": "code",
   "execution_count": 11,
   "metadata": {},
   "outputs": [],
   "source": [
    "bs = 32\n",
    "train_dataloader = GraphDataLoader(\n",
    "    dataset, sampler=train_sampler, batch_size=bs, drop_last=False)\n",
    "val_dataloader = GraphDataLoader(\n",
    "    val_subset, shuffle=False, batch_size=bs, drop_last=False)\n",
    "test_dataloader = GraphDataLoader(\n",
    "    test_subset, shuffle=False, batch_size=bs, drop_last=False)"
   ]
  },
  {
   "cell_type": "code",
   "execution_count": 12,
   "metadata": {},
   "outputs": [
    {
     "data": {
      "text/plain": [
       "(4113, 4113)"
      ]
     },
     "execution_count": 12,
     "metadata": {},
     "output_type": "execute_result"
    }
   ],
   "source": [
    "len(val_subset), len(test_subset)"
   ]
  },
  {
   "cell_type": "code",
   "execution_count": 13,
   "metadata": {},
   "outputs": [],
   "source": [
    "it = iter(train_dataloader)\n",
    "batch = next(it)"
   ]
  },
  {
   "cell_type": "code",
   "execution_count": 14,
   "metadata": {},
   "outputs": [
    {
     "data": {
      "text/plain": [
       "[Graph(num_nodes=706, num_edges=1512,\n",
       "       ndata_schemes={'feat': Scheme(shape=(9,), dtype=torch.int64)}\n",
       "       edata_schemes={'feat': Scheme(shape=(3,), dtype=torch.int64)}),\n",
       " tensor([[0],\n",
       "         [0],\n",
       "         [0],\n",
       "         [0],\n",
       "         [0],\n",
       "         [0],\n",
       "         [0],\n",
       "         [0],\n",
       "         [0],\n",
       "         [0],\n",
       "         [0],\n",
       "         [0],\n",
       "         [0],\n",
       "         [0],\n",
       "         [0],\n",
       "         [0],\n",
       "         [0],\n",
       "         [0],\n",
       "         [0],\n",
       "         [0],\n",
       "         [0],\n",
       "         [0],\n",
       "         [0],\n",
       "         [0],\n",
       "         [0],\n",
       "         [0],\n",
       "         [0],\n",
       "         [0],\n",
       "         [0],\n",
       "         [0],\n",
       "         [0],\n",
       "         [0]])]"
      ]
     },
     "execution_count": 14,
     "metadata": {},
     "output_type": "execute_result"
    }
   ],
   "source": [
    "batch"
   ]
  },
  {
   "cell_type": "code",
   "execution_count": 38,
   "metadata": {},
   "outputs": [
    {
     "data": {
      "text/plain": [
       "[Graph(num_nodes=22, num_edges=48,\n",
       "       ndata_schemes={'feat': Scheme(shape=(9,), dtype=torch.int64)}\n",
       "       edata_schemes={'feat': Scheme(shape=(3,), dtype=torch.int64)}),\n",
       " Graph(num_nodes=25, num_edges=52,\n",
       "       ndata_schemes={'feat': Scheme(shape=(9,), dtype=torch.int64)}\n",
       "       edata_schemes={'feat': Scheme(shape=(3,), dtype=torch.int64)}),\n",
       " Graph(num_nodes=20, num_edges=40,\n",
       "       ndata_schemes={'feat': Scheme(shape=(9,), dtype=torch.int64)}\n",
       "       edata_schemes={'feat': Scheme(shape=(3,), dtype=torch.int64)}),\n",
       " Graph(num_nodes=23, num_edges=52,\n",
       "       ndata_schemes={'feat': Scheme(shape=(9,), dtype=torch.int64)}\n",
       "       edata_schemes={'feat': Scheme(shape=(3,), dtype=torch.int64)}),\n",
       " Graph(num_nodes=23, num_edges=50,\n",
       "       ndata_schemes={'feat': Scheme(shape=(9,), dtype=torch.int64)}\n",
       "       edata_schemes={'feat': Scheme(shape=(3,), dtype=torch.int64)}),\n",
       " Graph(num_nodes=11, num_edges=20,\n",
       "       ndata_schemes={'feat': Scheme(shape=(9,), dtype=torch.int64)}\n",
       "       edata_schemes={'feat': Scheme(shape=(3,), dtype=torch.int64)}),\n",
       " Graph(num_nodes=36, num_edges=78,\n",
       "       ndata_schemes={'feat': Scheme(shape=(9,), dtype=torch.int64)}\n",
       "       edata_schemes={'feat': Scheme(shape=(3,), dtype=torch.int64)}),\n",
       " Graph(num_nodes=14, num_edges=32,\n",
       "       ndata_schemes={'feat': Scheme(shape=(9,), dtype=torch.int64)}\n",
       "       edata_schemes={'feat': Scheme(shape=(3,), dtype=torch.int64)}),\n",
       " Graph(num_nodes=18, num_edges=36,\n",
       "       ndata_schemes={'feat': Scheme(shape=(9,), dtype=torch.int64)}\n",
       "       edata_schemes={'feat': Scheme(shape=(3,), dtype=torch.int64)}),\n",
       " Graph(num_nodes=27, num_edges=60,\n",
       "       ndata_schemes={'feat': Scheme(shape=(9,), dtype=torch.int64)}\n",
       "       edata_schemes={'feat': Scheme(shape=(3,), dtype=torch.int64)}),\n",
       " Graph(num_nodes=12, num_edges=20,\n",
       "       ndata_schemes={'feat': Scheme(shape=(9,), dtype=torch.int64)}\n",
       "       edata_schemes={'feat': Scheme(shape=(3,), dtype=torch.int64)}),\n",
       " Graph(num_nodes=22, num_edges=50,\n",
       "       ndata_schemes={'feat': Scheme(shape=(9,), dtype=torch.int64)}\n",
       "       edata_schemes={'feat': Scheme(shape=(3,), dtype=torch.int64)}),\n",
       " Graph(num_nodes=35, num_edges=76,\n",
       "       ndata_schemes={'feat': Scheme(shape=(9,), dtype=torch.int64)}\n",
       "       edata_schemes={'feat': Scheme(shape=(3,), dtype=torch.int64)}),\n",
       " Graph(num_nodes=38, num_edges=84,\n",
       "       ndata_schemes={'feat': Scheme(shape=(9,), dtype=torch.int64)}\n",
       "       edata_schemes={'feat': Scheme(shape=(3,), dtype=torch.int64)}),\n",
       " Graph(num_nodes=21, num_edges=44,\n",
       "       ndata_schemes={'feat': Scheme(shape=(9,), dtype=torch.int64)}\n",
       "       edata_schemes={'feat': Scheme(shape=(3,), dtype=torch.int64)}),\n",
       " Graph(num_nodes=17, num_edges=36,\n",
       "       ndata_schemes={'feat': Scheme(shape=(9,), dtype=torch.int64)}\n",
       "       edata_schemes={'feat': Scheme(shape=(3,), dtype=torch.int64)}),\n",
       " Graph(num_nodes=21, num_edges=44,\n",
       "       ndata_schemes={'feat': Scheme(shape=(9,), dtype=torch.int64)}\n",
       "       edata_schemes={'feat': Scheme(shape=(3,), dtype=torch.int64)}),\n",
       " Graph(num_nodes=17, num_edges=36,\n",
       "       ndata_schemes={'feat': Scheme(shape=(9,), dtype=torch.int64)}\n",
       "       edata_schemes={'feat': Scheme(shape=(3,), dtype=torch.int64)}),\n",
       " Graph(num_nodes=12, num_edges=26,\n",
       "       ndata_schemes={'feat': Scheme(shape=(9,), dtype=torch.int64)}\n",
       "       edata_schemes={'feat': Scheme(shape=(3,), dtype=torch.int64)}),\n",
       " Graph(num_nodes=32, num_edges=72,\n",
       "       ndata_schemes={'feat': Scheme(shape=(9,), dtype=torch.int64)}\n",
       "       edata_schemes={'feat': Scheme(shape=(3,), dtype=torch.int64)}),\n",
       " Graph(num_nodes=24, num_edges=50,\n",
       "       ndata_schemes={'feat': Scheme(shape=(9,), dtype=torch.int64)}\n",
       "       edata_schemes={'feat': Scheme(shape=(3,), dtype=torch.int64)}),\n",
       " Graph(num_nodes=20, num_edges=46,\n",
       "       ndata_schemes={'feat': Scheme(shape=(9,), dtype=torch.int64)}\n",
       "       edata_schemes={'feat': Scheme(shape=(3,), dtype=torch.int64)}),\n",
       " Graph(num_nodes=26, num_edges=58,\n",
       "       ndata_schemes={'feat': Scheme(shape=(9,), dtype=torch.int64)}\n",
       "       edata_schemes={'feat': Scheme(shape=(3,), dtype=torch.int64)}),\n",
       " Graph(num_nodes=29, num_edges=64,\n",
       "       ndata_schemes={'feat': Scheme(shape=(9,), dtype=torch.int64)}\n",
       "       edata_schemes={'feat': Scheme(shape=(3,), dtype=torch.int64)}),\n",
       " Graph(num_nodes=35, num_edges=72,\n",
       "       ndata_schemes={'feat': Scheme(shape=(9,), dtype=torch.int64)}\n",
       "       edata_schemes={'feat': Scheme(shape=(3,), dtype=torch.int64)}),\n",
       " Graph(num_nodes=19, num_edges=40,\n",
       "       ndata_schemes={'feat': Scheme(shape=(9,), dtype=torch.int64)}\n",
       "       edata_schemes={'feat': Scheme(shape=(3,), dtype=torch.int64)}),\n",
       " Graph(num_nodes=14, num_edges=30,\n",
       "       ndata_schemes={'feat': Scheme(shape=(9,), dtype=torch.int64)}\n",
       "       edata_schemes={'feat': Scheme(shape=(3,), dtype=torch.int64)}),\n",
       " Graph(num_nodes=24, num_edges=52,\n",
       "       ndata_schemes={'feat': Scheme(shape=(9,), dtype=torch.int64)}\n",
       "       edata_schemes={'feat': Scheme(shape=(3,), dtype=torch.int64)}),\n",
       " Graph(num_nodes=15, num_edges=30,\n",
       "       ndata_schemes={'feat': Scheme(shape=(9,), dtype=torch.int64)}\n",
       "       edata_schemes={'feat': Scheme(shape=(3,), dtype=torch.int64)}),\n",
       " Graph(num_nodes=23, num_edges=48,\n",
       "       ndata_schemes={'feat': Scheme(shape=(9,), dtype=torch.int64)}\n",
       "       edata_schemes={'feat': Scheme(shape=(3,), dtype=torch.int64)}),\n",
       " Graph(num_nodes=19, num_edges=42,\n",
       "       ndata_schemes={'feat': Scheme(shape=(9,), dtype=torch.int64)}\n",
       "       edata_schemes={'feat': Scheme(shape=(3,), dtype=torch.int64)}),\n",
       " Graph(num_nodes=12, num_edges=24,\n",
       "       ndata_schemes={'feat': Scheme(shape=(9,), dtype=torch.int64)}\n",
       "       edata_schemes={'feat': Scheme(shape=(3,), dtype=torch.int64)})]"
      ]
     },
     "execution_count": 38,
     "metadata": {},
     "output_type": "execute_result"
    }
   ],
   "source": [
    "dgl.unbatch(batch[0])"
   ]
  },
  {
   "cell_type": "code",
   "execution_count": 16,
   "metadata": {},
   "outputs": [
    {
     "data": {
      "text/plain": [
       "tensor([[7, 0, 2,  ..., 2, 0, 0],\n",
       "        [5, 0, 4,  ..., 2, 0, 0],\n",
       "        [5, 0, 3,  ..., 1, 1, 1],\n",
       "        ...,\n",
       "        [6, 0, 3,  ..., 1, 1, 1],\n",
       "        [5, 0, 3,  ..., 1, 1, 1],\n",
       "        [7, 0, 1,  ..., 1, 0, 0]])"
      ]
     },
     "execution_count": 16,
     "metadata": {},
     "output_type": "execute_result"
    }
   ],
   "source": [
    "# ndata - node data\n",
    "batch[0].ndata['feat']"
   ]
  },
  {
   "cell_type": "code",
   "execution_count": 17,
   "metadata": {},
   "outputs": [
    {
     "data": {
      "text/plain": [
       "tensor([[0, 0, 0],\n",
       "        [0, 0, 0],\n",
       "        [0, 0, 0],\n",
       "        ...,\n",
       "        [1, 0, 1],\n",
       "        [3, 0, 1],\n",
       "        [3, 0, 1]])"
      ]
     },
     "execution_count": 17,
     "metadata": {},
     "output_type": "execute_result"
    }
   ],
   "source": [
    "# edata - edge data\n",
    "batch[0].edata['feat']"
   ]
  },
  {
   "attachments": {},
   "cell_type": "markdown",
   "metadata": {},
   "source": [
    "see [AtomEncoder](https://github.com/snap-stanford/ogb/blob/68a303f320220cda859e83e3a8660f2b9debedf6/ogb/graphproppred/mol_encoder.py#L7) and [BondEncoder](https://github.com/snap-stanford/ogb/blob/68a303f320220cda859e83e3a8660f2b9debedf6/ogb/graphproppred/mol_encoder.py#L27)"
   ]
  },
  {
   "cell_type": "code",
   "execution_count": 18,
   "metadata": {},
   "outputs": [],
   "source": [
    "emb_dim = 300"
   ]
  },
  {
   "cell_type": "code",
   "execution_count": 19,
   "metadata": {},
   "outputs": [],
   "source": [
    "# Three parts:\n",
    "## GIN layer\n",
    "## Node convolution\n",
    "## Graph convolution"
   ]
  },
  {
   "attachments": {},
   "cell_type": "markdown",
   "metadata": {},
   "source": [
    "## Graph Isomorphic Network layer\n",
    "\n",
    "[How Powerful are Graph Neural Networks?](https://arxiv.org/abs/1810.00826)\n",
    "\n",
    "$$\\mathbf{h}_i^{(l+1)} = \\text{MLP}[ (1 + \\epsilon) \\cdot \\mathbf{h}_i^{(l)} + \\sum_{j \\in \\mathcal{N}_i} \\mathbf{h}_j^{(l)} ]$$\n",
    "\n",
    "see https://github.com/snap-stanford/ogb/blob/master/examples/graphproppred/mol/conv.py#L31\n",
    "\n",
    "$$\\mathbf{h}_i^{(l+1)} = \\text{MLP}[ (1 + \\epsilon) \\cdot \\mathbf{h}_i^{(l)} + \\sum_{j \\in \\mathcal{N}_i} \\text{ReLU}(\\mathbf{h}_j^{(l)} + \\mathbf{e}_{ij}) ]$$\n",
    "\n"
   ]
  },
  {
   "cell_type": "code",
   "execution_count": 20,
   "metadata": {},
   "outputs": [],
   "source": [
    "# copy_{u} - source node\n",
    "# copy_{v} - destination, neighbour node\n",
    "\n",
    "class GINLayer(nn.Module):\n",
    "    def __init__(self, emb_dim):\n",
    "        super(GINLayer, self).__init__()\n",
    "        self.mlp = nn.Sequential(\n",
    "            nn.Linear(emb_dim, 2*emb_dim), \n",
    "            nn.BatchNorm1d(2*emb_dim), \n",
    "            nn.ReLU(), \n",
    "            nn.Linear(2*emb_dim, emb_dim) #from above\n",
    "        )\n",
    "        self.eps = nn.Parameter(th.FloatTensor([0]))\n",
    "        \n",
    "\n",
    "    def reset_parameters(self): # reset the parameters of the MLP\n",
    "        # MLP\n",
    "        for layer in self.mlp:\n",
    "            if hasattr(layer, 'reset_parameters'):\n",
    "                layer.reset_parameters()\n",
    "        # EPS\n",
    "        nn.init.constant_(self.eps, 0.)\n",
    "        \n",
    "    def extra_repr(self):\n",
    "        # Add \"eps\" to the string representation\n",
    "        return f'(eps): nn.Parameter'\n",
    "        \n",
    "    def forward(self, g, x_node, x_edge):\n",
    "        \"\"\"\n",
    "        g : The graph used for message passing\n",
    "        x_node : AtomEncodings\n",
    "        x_edge : BondEncodings\n",
    "        \"\"\"\n",
    "        \n",
    "        with g.local_scope():\n",
    "            # Store edge features to 'bond' key in g.edata\n",
    "            g.edata['bond'] = x_edge\n",
    "            # Store node features to 'x' key in g.ndata\n",
    "            g.srcdata['x'] = x_node\n",
    "            \n",
    "            # calculate the right part h_i = sum_j( F.relu (h_j + e_ij) )\n",
    "                \n",
    "            ## 1. take the sum\n",
    "            g.apply_edges( # see https://docs.dgl.ai/api/python/dgl.function.html#dgl-built-in-function\n",
    "                fn.u_add_e('x', 'bond', 'm')\n",
    "            )\n",
    "            ##2. apply ReLU\n",
    "            g.edata['m'] = F.relu(g.edata['m'])\n",
    "            \n",
    "            ## 3. sum the modified messages https://docs.dgl.ai/en/1.0.x/generated/dgl.DGLGraph.update_all.html\n",
    "            g.update_all(\n",
    "                fn.copy_e('m', 'm'), # creating messages\n",
    "                fn.sum('m', 'mp'), # sending messages to message passing\n",
    "            )\n",
    "            ## extract the final output into variable \"h_mp\"\n",
    "            h_mp = g.dstdata['mp'] # will be used in the next layer\n",
    "                    \n",
    "        # GIN update equation\n",
    "        out = self.mlp((1 + self.eps) * x_node + h_mp)\n",
    "\n",
    "        return out"
   ]
  },
  {
   "cell_type": "code",
   "execution_count": 21,
   "metadata": {},
   "outputs": [
    {
     "data": {
      "text/plain": [
       "GINLayer(\n",
       "  (eps): nn.Parameter\n",
       "  (mlp): Sequential(\n",
       "    (0): Linear(in_features=300, out_features=600, bias=True)\n",
       "    (1): BatchNorm1d(600, eps=1e-05, momentum=0.1, affine=True, track_running_stats=True)\n",
       "    (2): ReLU()\n",
       "    (3): Linear(in_features=600, out_features=300, bias=True)\n",
       "  )\n",
       ")"
      ]
     },
     "execution_count": 21,
     "metadata": {},
     "output_type": "execute_result"
    }
   ],
   "source": [
    "gin = GINLayer(emb_dim)\n",
    "gin"
   ]
  },
  {
   "cell_type": "code",
   "execution_count": 22,
   "metadata": {},
   "outputs": [
    {
     "data": {
      "text/plain": [
       "362101"
      ]
     },
     "execution_count": 22,
     "metadata": {},
     "output_type": "execute_result"
    }
   ],
   "source": [
    "#362101\n",
    "sum(p.numel() for p in gin.parameters())"
   ]
  },
  {
   "cell_type": "code",
   "execution_count": 23,
   "metadata": {},
   "outputs": [
    {
     "name": "stderr",
     "output_type": "stream",
     "text": [
      "/home/ki/repos/dgl2/venv/lib/python3.10/site-packages/dgl/backend/pytorch/tensor.py:352: UserWarning: TypedStorage is deprecated. It will be removed in the future and UntypedStorage will be the only storage class. This should only matter to you if you are using storages directly.  To access UntypedStorage directly, use tensor.untyped_storage() instead of tensor.storage()\n",
      "  assert input.numel() == input.storage().size(), \"Cannot convert view \" \\\n"
     ]
    },
    {
     "data": {
      "text/plain": [
       "tensor([[-0.9681, -0.6240, -0.1038,  ..., -0.6000, -0.9485, -0.7573],\n",
       "        [ 0.3010, -0.6838,  0.5443,  ..., -0.0686, -0.7225, -0.6984],\n",
       "        [ 0.0730,  0.0048, -0.0595,  ..., -0.2102, -0.4386, -0.5446],\n",
       "        ...,\n",
       "        [ 0.4252,  0.1886, -0.2115,  ..., -0.2981, -0.3695, -0.0432],\n",
       "        [ 0.1600, -0.1270, -0.0809,  ..., -0.1951, -0.2563, -0.3816],\n",
       "        [-0.1221, -0.7057,  0.3895,  ..., -0.7057, -0.6778, -0.4727]],\n",
       "       grad_fn=<AddmmBackward0>)"
      ]
     },
     "execution_count": 23,
     "metadata": {},
     "output_type": "execute_result"
    }
   ],
   "source": [
    "#https://github.com/dmlc/dgl/blob/master/examples/mxnet/gin/gin.py\n",
    "\n",
    "gin(\n",
    "    batch[0], \n",
    "    AtomEncoder(emb_dim)(batch[0].ndata['feat']), \n",
    "    BondEncoder(emb_dim)(batch[0].edata['feat'])\n",
    ")"
   ]
  },
  {
   "cell_type": "code",
   "execution_count": 24,
   "metadata": {},
   "outputs": [],
   "source": [
    "## Node convolution\n",
    "class NodeGNN(nn.Module):\n",
    "    def __init__(self, emb_dim, num_layers, dropout):\n",
    "        super(NodeGNN, self).__init__()\n",
    "        self.num_layers = num_layers\n",
    "        self.dropout = dropout\n",
    "        \n",
    "        self.atom_encoder = AtomEncoder(emb_dim)\n",
    "        self.bond_encoder = BondEncoder(emb_dim)\n",
    "        \n",
    "        self.convs = nn.ModuleList()\n",
    "        self.batch_norms = nn.ModuleList()\n",
    "        for layer in range(num_layers):\n",
    "            self.convs.append(GINLayer(emb_dim))\n",
    "            self.batch_norms.append(nn.BatchNorm1d(emb_dim))\n",
    "    \n",
    "    def reset_parameters(self):\n",
    "        \n",
    "        for emb in self.atom_encoder.atom_embedding_list: # Atom embeddings\n",
    "            nn.init.xavier_uniform_(emb.weight.data)\n",
    "        \n",
    "        for emb in self.bond_encoder.bond_embedding_list: # Bond embeddings\n",
    "            nn.init.xavier_uniform_(emb.weight.data)\n",
    "        \n",
    "        # reset parameters for the GIN and batch norm layers\n",
    "        for conv in self.convs:\n",
    "            conv.reset_parameters()\n",
    "        for bn in self.batch_norms:\n",
    "            bn.reset_parameters()\n",
    "    \n",
    "    def forward(self, g):\n",
    "        \"\"\"        \n",
    "        (node_embeddings, edge_embeddings) -> GIN -> Batch Norm -> ReLU -> Dropout\n",
    "        \"\"\"\n",
    "        \n",
    "        # Convert integer categorical features to embeddings\n",
    "        h = self.atom_encoder(g.ndata['feat']) # initial node embeddings\n",
    "        edge_embedding = self.bond_encoder(g.edata['feat']) # edge embeddings\n",
    "        \n",
    "        for layer in range(self.num_layers):\n",
    "            h = self.convs[layer](g, h, edge_embedding)\n",
    "            h = self.batch_norms[layer](h)\n",
    "            if layer == self.num_layers - 1:\n",
    "                #remove relu for the last layer\n",
    "                h = F.dropout(h, self.dropout, training=self.training)\n",
    "            else:\n",
    "                h = F.dropout(F.relu(h), self.dropout, training=self.training)\n",
    "        return h"
   ]
  },
  {
   "cell_type": "code",
   "execution_count": 25,
   "metadata": {},
   "outputs": [
    {
     "data": {
      "text/plain": [
       "NodeGNN(\n",
       "  (atom_encoder): AtomEncoder(\n",
       "    (atom_embedding_list): ModuleList(\n",
       "      (0): Embedding(119, 300)\n",
       "      (1): Embedding(5, 300)\n",
       "      (2-3): 2 x Embedding(12, 300)\n",
       "      (4): Embedding(10, 300)\n",
       "      (5-6): 2 x Embedding(6, 300)\n",
       "      (7-8): 2 x Embedding(2, 300)\n",
       "    )\n",
       "  )\n",
       "  (bond_encoder): BondEncoder(\n",
       "    (bond_embedding_list): ModuleList(\n",
       "      (0): Embedding(5, 300)\n",
       "      (1): Embedding(6, 300)\n",
       "      (2): Embedding(2, 300)\n",
       "    )\n",
       "  )\n",
       "  (convs): ModuleList(\n",
       "    (0): GINLayer(\n",
       "      (eps): nn.Parameter\n",
       "      (mlp): Sequential(\n",
       "        (0): Linear(in_features=300, out_features=600, bias=True)\n",
       "        (1): BatchNorm1d(600, eps=1e-05, momentum=0.1, affine=True, track_running_stats=True)\n",
       "        (2): ReLU()\n",
       "        (3): Linear(in_features=600, out_features=300, bias=True)\n",
       "      )\n",
       "    )\n",
       "  )\n",
       "  (batch_norms): ModuleList(\n",
       "    (0): BatchNorm1d(300, eps=1e-05, momentum=0.1, affine=True, track_running_stats=True)\n",
       "  )\n",
       ")"
      ]
     },
     "execution_count": 25,
     "metadata": {},
     "output_type": "execute_result"
    }
   ],
   "source": [
    "# test model\n",
    "node_gnn = NodeGNN(emb_dim, 1, 0.5)\n",
    "node_gnn"
   ]
  },
  {
   "cell_type": "code",
   "execution_count": 26,
   "metadata": {},
   "outputs": [
    {
     "data": {
      "text/plain": [
       "418801"
      ]
     },
     "execution_count": 26,
     "metadata": {},
     "output_type": "execute_result"
    }
   ],
   "source": [
    "#418501\n",
    "sum(p.numel() for p in node_gnn.parameters())"
   ]
  },
  {
   "cell_type": "code",
   "execution_count": 27,
   "metadata": {},
   "outputs": [
    {
     "data": {
      "text/plain": [
       "tensor([[ 0.0000, -0.3458, -2.4443,  ...,  0.0000, -1.9417,  0.0000],\n",
       "        [-0.0000, -0.0000, -0.0000,  ...,  0.0000,  0.0000, -1.2409],\n",
       "        [ 0.0000,  0.0000,  0.0000,  ..., -0.5370, -0.0000, -0.5971],\n",
       "        ...,\n",
       "        [-0.0000, -0.0000, -2.1739,  ..., -0.3948,  3.4321,  0.4168],\n",
       "        [-0.0000, -0.0000, -0.0000,  ..., -1.7384, -2.3997,  1.1329],\n",
       "        [-0.0000, -0.5160,  0.0962,  ...,  0.0000,  0.0000, -0.0000]],\n",
       "       grad_fn=<MulBackward0>)"
      ]
     },
     "execution_count": 27,
     "metadata": {},
     "output_type": "execute_result"
    }
   ],
   "source": [
    "node_gnn(batch[0])"
   ]
  },
  {
   "cell_type": "code",
   "execution_count": 28,
   "metadata": {},
   "outputs": [],
   "source": [
    "# graph convolution\n"
   ]
  },
  {
   "attachments": {},
   "cell_type": "markdown",
   "metadata": {},
   "source": [
    "$$\\mathbf{h}_\\mathcal{G} = \\frac{1}{|V_\\mathcal{G}|}\\sum_{j \\in V_\\mathcal{G}} \\mathbf{h}_j$$"
   ]
  },
  {
   "cell_type": "code",
   "execution_count": 29,
   "metadata": {},
   "outputs": [],
   "source": [
    "class GraphGNN(nn.Module):\n",
    "    def __init__(self, emb_dim, num_layers, node_cls, dropout):\n",
    "        super(GraphGNN, self).__init__()\n",
    "        self.num_layers = num_layers\n",
    "        self.dropout = dropout\n",
    "        \n",
    "        self.node_GNN = node_cls(emb_dim, num_layers, dropout) # node-level GNN, returns node embeddings for every single graph\n",
    "        #node representation -> graph representation\n",
    "        self.graph_pred_linear = nn.Linear(emb_dim, 1)\n",
    "        self.reset_parameters()\n",
    "\n",
    "    def reset_parameters(self):\n",
    "        self.node_GNN.reset_parameters()\n",
    "        self.graph_pred_linear.reset_parameters()\n",
    "\n",
    "\n",
    "    def forward(self, g): # !!! g is a batched super-graph\n",
    "        h_node = self.node_GNN(g) # node-level embeddings with self.node_GNN\n",
    "        \n",
    "        # pool the node-level embedding to get graph representations\n",
    "        with g.local_scope():\n",
    "            g.ndata['h'] = h_node # store node data in h\n",
    "            h_graph = dgl.mean_nodes(g, 'h') # average the nodes in the component graphs 32 graph layer embs\n",
    "        \n",
    "        # generate a final prediction by sending the graph-level representation\n",
    "        # through self.graph_pred_linear\n",
    "        pred = self.graph_pred_linear(h_graph)\n",
    "        return pred"
   ]
  },
  {
   "cell_type": "code",
   "execution_count": 30,
   "metadata": {},
   "outputs": [],
   "source": [
    "num_layers = 5\n",
    "dropout = 0.5\n",
    "\n",
    "model = GraphGNN(emb_dim, num_layers, NodeGNN, dropout)"
   ]
  },
  {
   "cell_type": "code",
   "execution_count": 31,
   "metadata": {},
   "outputs": [
    {
     "data": {
      "text/plain": [
       "GraphGNN(\n",
       "  (node_GNN): NodeGNN(\n",
       "    (atom_encoder): AtomEncoder(\n",
       "      (atom_embedding_list): ModuleList(\n",
       "        (0): Embedding(119, 300)\n",
       "        (1): Embedding(5, 300)\n",
       "        (2-3): 2 x Embedding(12, 300)\n",
       "        (4): Embedding(10, 300)\n",
       "        (5-6): 2 x Embedding(6, 300)\n",
       "        (7-8): 2 x Embedding(2, 300)\n",
       "      )\n",
       "    )\n",
       "    (bond_encoder): BondEncoder(\n",
       "      (bond_embedding_list): ModuleList(\n",
       "        (0): Embedding(5, 300)\n",
       "        (1): Embedding(6, 300)\n",
       "        (2): Embedding(2, 300)\n",
       "      )\n",
       "    )\n",
       "    (convs): ModuleList(\n",
       "      (0-4): 5 x GINLayer(\n",
       "        (eps): nn.Parameter\n",
       "        (mlp): Sequential(\n",
       "          (0): Linear(in_features=300, out_features=600, bias=True)\n",
       "          (1): BatchNorm1d(600, eps=1e-05, momentum=0.1, affine=True, track_running_stats=True)\n",
       "          (2): ReLU()\n",
       "          (3): Linear(in_features=600, out_features=300, bias=True)\n",
       "        )\n",
       "      )\n",
       "    )\n",
       "    (batch_norms): ModuleList(\n",
       "      (0-4): 5 x BatchNorm1d(300, eps=1e-05, momentum=0.1, affine=True, track_running_stats=True)\n",
       "    )\n",
       "  )\n",
       "  (graph_pred_linear): Linear(in_features=300, out_features=1, bias=True)\n",
       ")"
      ]
     },
     "execution_count": 31,
     "metadata": {},
     "output_type": "execute_result"
    }
   ],
   "source": [
    "model"
   ]
  },
  {
   "cell_type": "code",
   "execution_count": 32,
   "metadata": {},
   "outputs": [
    {
     "data": {
      "text/plain": [
       "1869906"
      ]
     },
     "execution_count": 32,
     "metadata": {},
     "output_type": "execute_result"
    }
   ],
   "source": [
    "#1869606\n",
    "sum(p.numel() for p in model.parameters())"
   ]
  },
  {
   "cell_type": "code",
   "execution_count": 33,
   "metadata": {},
   "outputs": [],
   "source": [
    "N_runs = 10\n",
    "train_args = dict(epochs=100, lr=0.001, eval_steps=1, log_steps=1)"
   ]
  },
  {
   "cell_type": "code",
   "execution_count": 34,
   "metadata": {},
   "outputs": [
    {
     "name": "stdout",
     "output_type": "stream",
     "text": [
      "Run: 01, Epoch: 01, Loss: 0.1936, Train: 0.7169 AUC, Valid: 0.6502 AUC, Test: 0.6184 AUC\n",
      "---\n",
      "Run: 01, Epoch: 02, Loss: 0.1511, Train: 0.7228 AUC, Valid: 0.6945 AUC, Test: 0.6963 AUC\n",
      "---\n",
      "Run: 01, Epoch: 03, Loss: 0.1477, Train: 0.7572 AUC, Valid: 0.7510 AUC, Test: 0.7142 AUC\n",
      "---\n",
      "Run: 01, Epoch: 04, Loss: 0.1458, Train: 0.7318 AUC, Valid: 0.7256 AUC, Test: 0.7532 AUC\n",
      "---\n",
      "Run: 01, Epoch: 05, Loss: 0.1433, Train: 0.7547 AUC, Valid: 0.7528 AUC, Test: 0.7468 AUC\n",
      "---\n",
      "Run: 01, Epoch: 06, Loss: 0.1420, Train: 0.7616 AUC, Valid: 0.7648 AUC, Test: 0.6973 AUC\n",
      "---\n",
      "Run: 01, Epoch: 07, Loss: 0.1413, Train: 0.7860 AUC, Valid: 0.7818 AUC, Test: 0.7124 AUC\n",
      "---\n",
      "Run: 01, Epoch: 08, Loss: 0.1389, Train: 0.7822 AUC, Valid: 0.7881 AUC, Test: 0.7458 AUC\n",
      "---\n",
      "Run: 01, Epoch: 09, Loss: 0.1370, Train: 0.7683 AUC, Valid: 0.7512 AUC, Test: 0.7417 AUC\n",
      "---\n",
      "Run: 01, Epoch: 10, Loss: 0.1361, Train: 0.7930 AUC, Valid: 0.7913 AUC, Test: 0.7369 AUC\n",
      "---\n",
      "Run: 01, Epoch: 11, Loss: 0.1361, Train: 0.7796 AUC, Valid: 0.7827 AUC, Test: 0.7130 AUC\n",
      "---\n",
      "Run: 01, Epoch: 12, Loss: 0.1349, Train: 0.8006 AUC, Valid: 0.7864 AUC, Test: 0.7323 AUC\n",
      "---\n",
      "Run: 01, Epoch: 13, Loss: 0.1346, Train: 0.8092 AUC, Valid: 0.7831 AUC, Test: 0.7650 AUC\n",
      "---\n",
      "Run: 01, Epoch: 14, Loss: 0.1321, Train: 0.8068 AUC, Valid: 0.8034 AUC, Test: 0.7501 AUC\n",
      "---\n",
      "Run: 01, Epoch: 15, Loss: 0.1302, Train: 0.8035 AUC, Valid: 0.7902 AUC, Test: 0.7327 AUC\n",
      "---\n",
      "Run: 01, Epoch: 16, Loss: 0.1293, Train: 0.8191 AUC, Valid: 0.7987 AUC, Test: 0.7713 AUC\n",
      "---\n",
      "Run: 01, Epoch: 17, Loss: 0.1278, Train: 0.8153 AUC, Valid: 0.7935 AUC, Test: 0.7492 AUC\n",
      "---\n",
      "Run: 01, Epoch: 18, Loss: 0.1274, Train: 0.8172 AUC, Valid: 0.7754 AUC, Test: 0.7420 AUC\n",
      "---\n",
      "Run: 01, Epoch: 19, Loss: 0.1255, Train: 0.8285 AUC, Valid: 0.8011 AUC, Test: 0.7397 AUC\n",
      "---\n",
      "Run: 01, Epoch: 20, Loss: 0.1259, Train: 0.8265 AUC, Valid: 0.7921 AUC, Test: 0.7469 AUC\n",
      "---\n",
      "Run: 01, Epoch: 21, Loss: 0.1242, Train: 0.8306 AUC, Valid: 0.7923 AUC, Test: 0.7369 AUC\n",
      "---\n",
      "Run: 01, Epoch: 22, Loss: 0.1245, Train: 0.8428 AUC, Valid: 0.8132 AUC, Test: 0.7356 AUC\n",
      "---\n",
      "Run: 01, Epoch: 23, Loss: 0.1219, Train: 0.8479 AUC, Valid: 0.8091 AUC, Test: 0.7420 AUC\n",
      "---\n",
      "Run: 01, Epoch: 24, Loss: 0.1234, Train: 0.8493 AUC, Valid: 0.8176 AUC, Test: 0.7407 AUC\n",
      "---\n",
      "Run: 01, Epoch: 25, Loss: 0.1221, Train: 0.8501 AUC, Valid: 0.8036 AUC, Test: 0.7287 AUC\n",
      "---\n",
      "Run: 01, Epoch: 26, Loss: 0.1206, Train: 0.8549 AUC, Valid: 0.8093 AUC, Test: 0.7543 AUC\n",
      "---\n",
      "Run: 01, Epoch: 27, Loss: 0.1205, Train: 0.8507 AUC, Valid: 0.8280 AUC, Test: 0.7313 AUC\n",
      "---\n",
      "Run: 01, Epoch: 28, Loss: 0.1196, Train: 0.8416 AUC, Valid: 0.8047 AUC, Test: 0.7536 AUC\n",
      "---\n",
      "Run: 01, Epoch: 29, Loss: 0.1182, Train: 0.8554 AUC, Valid: 0.7959 AUC, Test: 0.7521 AUC\n",
      "---\n",
      "Run: 01, Epoch: 30, Loss: 0.1178, Train: 0.8562 AUC, Valid: 0.7726 AUC, Test: 0.7487 AUC\n",
      "---\n",
      "Run: 01, Epoch: 31, Loss: 0.1163, Train: 0.8686 AUC, Valid: 0.8138 AUC, Test: 0.7532 AUC\n",
      "---\n",
      "Run: 01, Epoch: 32, Loss: 0.1162, Train: 0.8655 AUC, Valid: 0.8022 AUC, Test: 0.7486 AUC\n",
      "---\n",
      "Run: 01, Epoch: 33, Loss: 0.1164, Train: 0.8714 AUC, Valid: 0.8186 AUC, Test: 0.7459 AUC\n",
      "---\n",
      "Run: 01, Epoch: 34, Loss: 0.1144, Train: 0.8698 AUC, Valid: 0.8019 AUC, Test: 0.7512 AUC\n",
      "---\n",
      "Run: 01, Epoch: 35, Loss: 0.1155, Train: 0.8761 AUC, Valid: 0.8129 AUC, Test: 0.7489 AUC\n",
      "---\n",
      "Run: 01, Epoch: 36, Loss: 0.1142, Train: 0.8807 AUC, Valid: 0.7875 AUC, Test: 0.7290 AUC\n",
      "---\n",
      "Run: 01, Epoch: 37, Loss: 0.1138, Train: 0.8754 AUC, Valid: 0.7933 AUC, Test: 0.7433 AUC\n",
      "---\n",
      "Run: 01, Epoch: 38, Loss: 0.1132, Train: 0.8871 AUC, Valid: 0.8029 AUC, Test: 0.7462 AUC\n",
      "---\n",
      "Run: 01, Epoch: 39, Loss: 0.1121, Train: 0.8835 AUC, Valid: 0.7928 AUC, Test: 0.7427 AUC\n",
      "---\n",
      "Run: 01, Epoch: 40, Loss: 0.1129, Train: 0.8896 AUC, Valid: 0.7977 AUC, Test: 0.7508 AUC\n",
      "---\n",
      "Run: 01, Epoch: 41, Loss: 0.1100, Train: 0.8782 AUC, Valid: 0.8174 AUC, Test: 0.7455 AUC\n",
      "---\n",
      "Run: 01, Epoch: 42, Loss: 0.1116, Train: 0.8850 AUC, Valid: 0.8121 AUC, Test: 0.7487 AUC\n",
      "---\n",
      "Run: 01, Epoch: 43, Loss: 0.1095, Train: 0.8889 AUC, Valid: 0.8152 AUC, Test: 0.7479 AUC\n",
      "---\n",
      "Run: 01, Epoch: 44, Loss: 0.1095, Train: 0.8891 AUC, Valid: 0.7882 AUC, Test: 0.7515 AUC\n",
      "---\n",
      "Run: 01, Epoch: 45, Loss: 0.1091, Train: 0.8974 AUC, Valid: 0.8114 AUC, Test: 0.7668 AUC\n",
      "---\n",
      "Run: 01, Epoch: 46, Loss: 0.1085, Train: 0.8963 AUC, Valid: 0.7816 AUC, Test: 0.7497 AUC\n",
      "---\n",
      "Run: 01, Epoch: 47, Loss: 0.1086, Train: 0.8993 AUC, Valid: 0.7963 AUC, Test: 0.7430 AUC\n",
      "---\n",
      "Run: 01, Epoch: 48, Loss: 0.1077, Train: 0.8908 AUC, Valid: 0.7806 AUC, Test: 0.7504 AUC\n",
      "---\n",
      "Run: 01, Epoch: 49, Loss: 0.1083, Train: 0.8998 AUC, Valid: 0.8083 AUC, Test: 0.7628 AUC\n",
      "---\n",
      "Run: 01, Epoch: 50, Loss: 0.1066, Train: 0.9030 AUC, Valid: 0.7990 AUC, Test: 0.7650 AUC\n",
      "---\n",
      "Run: 01, Epoch: 51, Loss: 0.1062, Train: 0.8999 AUC, Valid: 0.8061 AUC, Test: 0.7582 AUC\n",
      "---\n",
      "Run: 01, Epoch: 52, Loss: 0.1047, Train: 0.9042 AUC, Valid: 0.7844 AUC, Test: 0.7537 AUC\n",
      "---\n",
      "Run: 01, Epoch: 53, Loss: 0.1054, Train: 0.9018 AUC, Valid: 0.7826 AUC, Test: 0.7638 AUC\n",
      "---\n",
      "Run: 01, Epoch: 54, Loss: 0.1053, Train: 0.9129 AUC, Valid: 0.7840 AUC, Test: 0.7708 AUC\n",
      "---\n",
      "Run: 01, Epoch: 55, Loss: 0.1033, Train: 0.9117 AUC, Valid: 0.7851 AUC, Test: 0.7547 AUC\n",
      "---\n",
      "Run: 01, Epoch: 56, Loss: 0.1031, Train: 0.9131 AUC, Valid: 0.7917 AUC, Test: 0.7529 AUC\n",
      "---\n",
      "Run: 01, Epoch: 57, Loss: 0.1035, Train: 0.9166 AUC, Valid: 0.7914 AUC, Test: 0.7526 AUC\n",
      "---\n",
      "Run: 01, Epoch: 58, Loss: 0.1015, Train: 0.9212 AUC, Valid: 0.7832 AUC, Test: 0.7605 AUC\n",
      "---\n",
      "Run: 01, Epoch: 59, Loss: 0.1015, Train: 0.9126 AUC, Valid: 0.7835 AUC, Test: 0.7581 AUC\n",
      "---\n",
      "Run: 01, Epoch: 60, Loss: 0.1018, Train: 0.9243 AUC, Valid: 0.7675 AUC, Test: 0.7647 AUC\n",
      "---\n",
      "Run: 01, Epoch: 61, Loss: 0.1009, Train: 0.9200 AUC, Valid: 0.7907 AUC, Test: 0.7425 AUC\n",
      "---\n",
      "Run: 01, Epoch: 62, Loss: 0.1000, Train: 0.9236 AUC, Valid: 0.7768 AUC, Test: 0.7442 AUC\n",
      "---\n",
      "Run: 01, Epoch: 63, Loss: 0.1012, Train: 0.9226 AUC, Valid: 0.7969 AUC, Test: 0.7557 AUC\n",
      "---\n",
      "Run: 01, Epoch: 64, Loss: 0.0994, Train: 0.9292 AUC, Valid: 0.7859 AUC, Test: 0.7588 AUC\n",
      "---\n",
      "Run: 01, Epoch: 65, Loss: 0.0994, Train: 0.9213 AUC, Valid: 0.7921 AUC, Test: 0.7537 AUC\n",
      "---\n",
      "Run: 01, Epoch: 66, Loss: 0.0992, Train: 0.9266 AUC, Valid: 0.7834 AUC, Test: 0.7524 AUC\n",
      "---\n",
      "Run: 01, Epoch: 67, Loss: 0.0971, Train: 0.9351 AUC, Valid: 0.7979 AUC, Test: 0.7506 AUC\n",
      "---\n",
      "Run: 01, Epoch: 68, Loss: 0.0986, Train: 0.9347 AUC, Valid: 0.7902 AUC, Test: 0.7638 AUC\n",
      "---\n",
      "Run: 01, Epoch: 69, Loss: 0.0963, Train: 0.9253 AUC, Valid: 0.7698 AUC, Test: 0.7550 AUC\n",
      "---\n",
      "Run: 01, Epoch: 70, Loss: 0.0959, Train: 0.9351 AUC, Valid: 0.7884 AUC, Test: 0.7414 AUC\n",
      "---\n",
      "Run: 01, Epoch: 71, Loss: 0.0959, Train: 0.9282 AUC, Valid: 0.7752 AUC, Test: 0.7444 AUC\n",
      "---\n",
      "Run: 01, Epoch: 72, Loss: 0.0953, Train: 0.9279 AUC, Valid: 0.7803 AUC, Test: 0.7618 AUC\n",
      "---\n",
      "Run: 01, Epoch: 73, Loss: 0.0952, Train: 0.9370 AUC, Valid: 0.7822 AUC, Test: 0.7545 AUC\n",
      "---\n",
      "Run: 01, Epoch: 74, Loss: 0.0941, Train: 0.9368 AUC, Valid: 0.7721 AUC, Test: 0.7454 AUC\n",
      "---\n",
      "Run: 01, Epoch: 75, Loss: 0.0928, Train: 0.9432 AUC, Valid: 0.7786 AUC, Test: 0.7572 AUC\n",
      "---\n",
      "Run: 01, Epoch: 76, Loss: 0.0931, Train: 0.9392 AUC, Valid: 0.7867 AUC, Test: 0.7395 AUC\n",
      "---\n",
      "Run: 01, Epoch: 77, Loss: 0.0928, Train: 0.9451 AUC, Valid: 0.7794 AUC, Test: 0.7590 AUC\n",
      "---\n",
      "Run: 01, Epoch: 78, Loss: 0.0927, Train: 0.9385 AUC, Valid: 0.7871 AUC, Test: 0.7596 AUC\n",
      "---\n",
      "Run: 01, Epoch: 79, Loss: 0.0914, Train: 0.9481 AUC, Valid: 0.7844 AUC, Test: 0.7592 AUC\n",
      "---\n",
      "Run: 01, Epoch: 80, Loss: 0.0930, Train: 0.9417 AUC, Valid: 0.8077 AUC, Test: 0.7555 AUC\n",
      "---\n",
      "Run: 01, Epoch: 81, Loss: 0.0908, Train: 0.9435 AUC, Valid: 0.7879 AUC, Test: 0.7531 AUC\n",
      "---\n",
      "Run: 01, Epoch: 82, Loss: 0.0906, Train: 0.9472 AUC, Valid: 0.7530 AUC, Test: 0.7496 AUC\n",
      "---\n",
      "Run: 01, Epoch: 83, Loss: 0.0915, Train: 0.9480 AUC, Valid: 0.7792 AUC, Test: 0.7487 AUC\n",
      "---\n",
      "Run: 01, Epoch: 84, Loss: 0.0884, Train: 0.9528 AUC, Valid: 0.7588 AUC, Test: 0.7594 AUC\n",
      "---\n",
      "Run: 01, Epoch: 85, Loss: 0.0905, Train: 0.9511 AUC, Valid: 0.7607 AUC, Test: 0.7582 AUC\n",
      "---\n",
      "Run: 01, Epoch: 86, Loss: 0.0885, Train: 0.9507 AUC, Valid: 0.7652 AUC, Test: 0.7332 AUC\n",
      "---\n",
      "Run: 01, Epoch: 87, Loss: 0.0889, Train: 0.9437 AUC, Valid: 0.7766 AUC, Test: 0.7480 AUC\n",
      "---\n",
      "Run: 01, Epoch: 88, Loss: 0.0895, Train: 0.9527 AUC, Valid: 0.7797 AUC, Test: 0.7457 AUC\n",
      "---\n",
      "Run: 01, Epoch: 89, Loss: 0.0874, Train: 0.9517 AUC, Valid: 0.7701 AUC, Test: 0.7488 AUC\n",
      "---\n",
      "Run: 01, Epoch: 90, Loss: 0.0861, Train: 0.9422 AUC, Valid: 0.7382 AUC, Test: 0.7359 AUC\n",
      "---\n",
      "Run: 01, Epoch: 91, Loss: 0.0868, Train: 0.9485 AUC, Valid: 0.7366 AUC, Test: 0.7509 AUC\n",
      "---\n",
      "Run: 01, Epoch: 92, Loss: 0.0861, Train: 0.9608 AUC, Valid: 0.7588 AUC, Test: 0.7585 AUC\n",
      "---\n",
      "Run: 01, Epoch: 93, Loss: 0.0851, Train: 0.9518 AUC, Valid: 0.7801 AUC, Test: 0.7400 AUC\n",
      "---\n",
      "Run: 01, Epoch: 94, Loss: 0.0859, Train: 0.9604 AUC, Valid: 0.7631 AUC, Test: 0.7524 AUC\n",
      "---\n",
      "Run: 01, Epoch: 95, Loss: 0.0841, Train: 0.9525 AUC, Valid: 0.7546 AUC, Test: 0.7626 AUC\n",
      "---\n",
      "Run: 01, Epoch: 96, Loss: 0.0852, Train: 0.9528 AUC, Valid: 0.7445 AUC, Test: 0.7439 AUC\n",
      "---\n",
      "Run: 01, Epoch: 97, Loss: 0.0856, Train: 0.9533 AUC, Valid: 0.7495 AUC, Test: 0.7405 AUC\n",
      "---\n",
      "Run: 01, Epoch: 98, Loss: 0.0840, Train: 0.9615 AUC, Valid: 0.7698 AUC, Test: 0.7514 AUC\n",
      "---\n",
      "Run: 01, Epoch: 99, Loss: 0.0827, Train: 0.9568 AUC, Valid: 0.7672 AUC, Test: 0.7497 AUC\n",
      "---\n",
      "Run: 01, Epoch: 100, Loss: 0.0847, Train: 0.9591 AUC, Valid: 0.7787 AUC, Test: 0.7413 AUC\n",
      "---\n",
      "Run 01:\n",
      "Highest Train: 96.15\n",
      "Highest Valid: 82.80\n",
      "  Final Train: 85.07\n",
      "   Final Test: 73.13\n",
      "Run: 02, Epoch: 01, Loss: 0.1957, Train: 0.6683 AUC, Valid: 0.6465 AUC, Test: 0.5928 AUC\n",
      "---\n",
      "Run: 02, Epoch: 02, Loss: 0.1515, Train: 0.7138 AUC, Valid: 0.6996 AUC, Test: 0.6190 AUC\n",
      "---\n",
      "Run: 02, Epoch: 03, Loss: 0.1473, Train: 0.7508 AUC, Valid: 0.7796 AUC, Test: 0.6981 AUC\n",
      "---\n",
      "Run: 02, Epoch: 04, Loss: 0.1464, Train: 0.7518 AUC, Valid: 0.7048 AUC, Test: 0.7282 AUC\n",
      "---\n",
      "Run: 02, Epoch: 05, Loss: 0.1435, Train: 0.7608 AUC, Valid: 0.7846 AUC, Test: 0.7440 AUC\n",
      "---\n",
      "Run: 02, Epoch: 06, Loss: 0.1407, Train: 0.7764 AUC, Valid: 0.7667 AUC, Test: 0.7135 AUC\n",
      "---\n",
      "Run: 02, Epoch: 07, Loss: 0.1405, Train: 0.7586 AUC, Valid: 0.6941 AUC, Test: 0.6964 AUC\n",
      "---\n",
      "Run: 02, Epoch: 08, Loss: 0.1398, Train: 0.7791 AUC, Valid: 0.8038 AUC, Test: 0.7348 AUC\n",
      "---\n",
      "Run: 02, Epoch: 09, Loss: 0.1381, Train: 0.7744 AUC, Valid: 0.7398 AUC, Test: 0.7416 AUC\n",
      "---\n",
      "Run: 02, Epoch: 10, Loss: 0.1361, Train: 0.7762 AUC, Valid: 0.7735 AUC, Test: 0.7371 AUC\n",
      "---\n",
      "Run: 02, Epoch: 11, Loss: 0.1335, Train: 0.8039 AUC, Valid: 0.7676 AUC, Test: 0.7363 AUC\n",
      "---\n",
      "Run: 02, Epoch: 12, Loss: 0.1333, Train: 0.7986 AUC, Valid: 0.7573 AUC, Test: 0.7247 AUC\n",
      "---\n",
      "Run: 02, Epoch: 13, Loss: 0.1320, Train: 0.7929 AUC, Valid: 0.7701 AUC, Test: 0.7421 AUC\n",
      "---\n",
      "Run: 02, Epoch: 14, Loss: 0.1311, Train: 0.8083 AUC, Valid: 0.7580 AUC, Test: 0.7102 AUC\n",
      "---\n",
      "Run: 02, Epoch: 15, Loss: 0.1299, Train: 0.8155 AUC, Valid: 0.7807 AUC, Test: 0.7542 AUC\n",
      "---\n",
      "Run: 02, Epoch: 16, Loss: 0.1287, Train: 0.8319 AUC, Valid: 0.7654 AUC, Test: 0.7540 AUC\n",
      "---\n",
      "Run: 02, Epoch: 17, Loss: 0.1268, Train: 0.8281 AUC, Valid: 0.7825 AUC, Test: 0.7487 AUC\n",
      "---\n",
      "Run: 02, Epoch: 18, Loss: 0.1265, Train: 0.8323 AUC, Valid: 0.7574 AUC, Test: 0.7236 AUC\n",
      "---\n",
      "Run: 02, Epoch: 19, Loss: 0.1254, Train: 0.8368 AUC, Valid: 0.7708 AUC, Test: 0.7457 AUC\n",
      "---\n",
      "Run: 02, Epoch: 20, Loss: 0.1247, Train: 0.8390 AUC, Valid: 0.7669 AUC, Test: 0.7470 AUC\n",
      "---\n",
      "Run: 02, Epoch: 21, Loss: 0.1223, Train: 0.8402 AUC, Valid: 0.7789 AUC, Test: 0.7567 AUC\n",
      "---\n",
      "Run: 02, Epoch: 22, Loss: 0.1230, Train: 0.8399 AUC, Valid: 0.7623 AUC, Test: 0.7476 AUC\n",
      "---\n",
      "Run: 02, Epoch: 23, Loss: 0.1225, Train: 0.8544 AUC, Valid: 0.7751 AUC, Test: 0.7546 AUC\n",
      "---\n",
      "Run: 02, Epoch: 24, Loss: 0.1202, Train: 0.8394 AUC, Valid: 0.7538 AUC, Test: 0.7446 AUC\n",
      "---\n",
      "Run: 02, Epoch: 25, Loss: 0.1208, Train: 0.8471 AUC, Valid: 0.7628 AUC, Test: 0.7426 AUC\n",
      "---\n",
      "Run: 02, Epoch: 26, Loss: 0.1208, Train: 0.8572 AUC, Valid: 0.7649 AUC, Test: 0.7540 AUC\n",
      "---\n",
      "Run: 02, Epoch: 27, Loss: 0.1190, Train: 0.8539 AUC, Valid: 0.7709 AUC, Test: 0.7579 AUC\n",
      "---\n",
      "Run: 02, Epoch: 28, Loss: 0.1179, Train: 0.8565 AUC, Valid: 0.7659 AUC, Test: 0.7509 AUC\n",
      "---\n",
      "Run: 02, Epoch: 29, Loss: 0.1182, Train: 0.8578 AUC, Valid: 0.7512 AUC, Test: 0.7560 AUC\n",
      "---\n",
      "Run: 02, Epoch: 30, Loss: 0.1171, Train: 0.8628 AUC, Valid: 0.7631 AUC, Test: 0.7861 AUC\n",
      "---\n",
      "Run: 02, Epoch: 31, Loss: 0.1159, Train: 0.8602 AUC, Valid: 0.7606 AUC, Test: 0.7535 AUC\n",
      "---\n",
      "Run: 02, Epoch: 32, Loss: 0.1163, Train: 0.8694 AUC, Valid: 0.7736 AUC, Test: 0.7561 AUC\n",
      "---\n",
      "Run: 02, Epoch: 33, Loss: 0.1151, Train: 0.8713 AUC, Valid: 0.7808 AUC, Test: 0.7640 AUC\n",
      "---\n",
      "Run: 02, Epoch: 34, Loss: 0.1152, Train: 0.8663 AUC, Valid: 0.7891 AUC, Test: 0.7517 AUC\n",
      "---\n",
      "Run: 02, Epoch: 35, Loss: 0.1139, Train: 0.8690 AUC, Valid: 0.8007 AUC, Test: 0.7477 AUC\n",
      "---\n",
      "Run: 02, Epoch: 36, Loss: 0.1140, Train: 0.8773 AUC, Valid: 0.7903 AUC, Test: 0.7618 AUC\n",
      "---\n",
      "Run: 02, Epoch: 37, Loss: 0.1133, Train: 0.8811 AUC, Valid: 0.7847 AUC, Test: 0.7632 AUC\n",
      "---\n",
      "Run: 02, Epoch: 38, Loss: 0.1111, Train: 0.8684 AUC, Valid: 0.7699 AUC, Test: 0.7317 AUC\n",
      "---\n",
      "Run: 02, Epoch: 39, Loss: 0.1114, Train: 0.8705 AUC, Valid: 0.7574 AUC, Test: 0.7643 AUC\n",
      "---\n",
      "Run: 02, Epoch: 40, Loss: 0.1105, Train: 0.8847 AUC, Valid: 0.7869 AUC, Test: 0.7691 AUC\n",
      "---\n",
      "Run: 02, Epoch: 41, Loss: 0.1111, Train: 0.8870 AUC, Valid: 0.7898 AUC, Test: 0.7350 AUC\n",
      "---\n",
      "Run: 02, Epoch: 42, Loss: 0.1105, Train: 0.8846 AUC, Valid: 0.8006 AUC, Test: 0.7707 AUC\n",
      "---\n",
      "Run: 02, Epoch: 43, Loss: 0.1103, Train: 0.8907 AUC, Valid: 0.7885 AUC, Test: 0.7675 AUC\n",
      "---\n",
      "Run: 02, Epoch: 44, Loss: 0.1112, Train: 0.8953 AUC, Valid: 0.7726 AUC, Test: 0.7666 AUC\n",
      "---\n",
      "Run: 02, Epoch: 45, Loss: 0.1082, Train: 0.8910 AUC, Valid: 0.7754 AUC, Test: 0.7669 AUC\n",
      "---\n",
      "Run: 02, Epoch: 46, Loss: 0.1078, Train: 0.8922 AUC, Valid: 0.7670 AUC, Test: 0.7591 AUC\n",
      "---\n",
      "Run: 02, Epoch: 47, Loss: 0.1077, Train: 0.8906 AUC, Valid: 0.7764 AUC, Test: 0.7593 AUC\n",
      "---\n",
      "Run: 02, Epoch: 48, Loss: 0.1068, Train: 0.9000 AUC, Valid: 0.7869 AUC, Test: 0.7567 AUC\n",
      "---\n",
      "Run: 02, Epoch: 49, Loss: 0.1072, Train: 0.8978 AUC, Valid: 0.7780 AUC, Test: 0.7615 AUC\n",
      "---\n",
      "Run: 02, Epoch: 50, Loss: 0.1071, Train: 0.9016 AUC, Valid: 0.7915 AUC, Test: 0.7775 AUC\n",
      "---\n",
      "Run: 02, Epoch: 51, Loss: 0.1067, Train: 0.9006 AUC, Valid: 0.7772 AUC, Test: 0.7605 AUC\n",
      "---\n",
      "Run: 02, Epoch: 52, Loss: 0.1054, Train: 0.9029 AUC, Valid: 0.7926 AUC, Test: 0.7640 AUC\n",
      "---\n",
      "Run: 02, Epoch: 53, Loss: 0.1050, Train: 0.9033 AUC, Valid: 0.7565 AUC, Test: 0.7521 AUC\n",
      "---\n",
      "Run: 02, Epoch: 54, Loss: 0.1044, Train: 0.8962 AUC, Valid: 0.7762 AUC, Test: 0.7624 AUC\n",
      "---\n",
      "Run: 02, Epoch: 55, Loss: 0.1044, Train: 0.9073 AUC, Valid: 0.7799 AUC, Test: 0.7636 AUC\n",
      "---\n",
      "Run: 02, Epoch: 56, Loss: 0.1033, Train: 0.9146 AUC, Valid: 0.7616 AUC, Test: 0.7677 AUC\n",
      "---\n",
      "Run: 02, Epoch: 57, Loss: 0.1033, Train: 0.9118 AUC, Valid: 0.7750 AUC, Test: 0.7725 AUC\n",
      "---\n",
      "Run: 02, Epoch: 58, Loss: 0.1012, Train: 0.9053 AUC, Valid: 0.7567 AUC, Test: 0.7436 AUC\n",
      "---\n",
      "Run: 02, Epoch: 59, Loss: 0.1037, Train: 0.9146 AUC, Valid: 0.7823 AUC, Test: 0.7664 AUC\n",
      "---\n",
      "Run: 02, Epoch: 60, Loss: 0.1022, Train: 0.9171 AUC, Valid: 0.7638 AUC, Test: 0.7678 AUC\n",
      "---\n",
      "Run: 02, Epoch: 61, Loss: 0.1007, Train: 0.9072 AUC, Valid: 0.7779 AUC, Test: 0.7567 AUC\n",
      "---\n",
      "Run: 02, Epoch: 62, Loss: 0.1008, Train: 0.9146 AUC, Valid: 0.7685 AUC, Test: 0.7790 AUC\n",
      "---\n",
      "Run: 02, Epoch: 63, Loss: 0.0990, Train: 0.9242 AUC, Valid: 0.7525 AUC, Test: 0.7816 AUC\n",
      "---\n",
      "Run: 02, Epoch: 64, Loss: 0.0991, Train: 0.9266 AUC, Valid: 0.7620 AUC, Test: 0.7691 AUC\n",
      "---\n",
      "Run: 02, Epoch: 65, Loss: 0.0989, Train: 0.9256 AUC, Valid: 0.7664 AUC, Test: 0.7537 AUC\n",
      "---\n",
      "Run: 02, Epoch: 66, Loss: 0.0973, Train: 0.9249 AUC, Valid: 0.7685 AUC, Test: 0.7732 AUC\n",
      "---\n",
      "Run: 02, Epoch: 67, Loss: 0.0974, Train: 0.9244 AUC, Valid: 0.7708 AUC, Test: 0.7637 AUC\n",
      "---\n",
      "Run: 02, Epoch: 68, Loss: 0.0979, Train: 0.9243 AUC, Valid: 0.7815 AUC, Test: 0.7854 AUC\n",
      "---\n",
      "Run: 02, Epoch: 69, Loss: 0.0977, Train: 0.9268 AUC, Valid: 0.7767 AUC, Test: 0.7707 AUC\n",
      "---\n",
      "Run: 02, Epoch: 70, Loss: 0.0968, Train: 0.9333 AUC, Valid: 0.7952 AUC, Test: 0.7722 AUC\n",
      "---\n",
      "Run: 02, Epoch: 71, Loss: 0.0961, Train: 0.9290 AUC, Valid: 0.7666 AUC, Test: 0.7728 AUC\n",
      "---\n",
      "Run: 02, Epoch: 72, Loss: 0.0963, Train: 0.9302 AUC, Valid: 0.7575 AUC, Test: 0.7649 AUC\n",
      "---\n",
      "Run: 02, Epoch: 73, Loss: 0.0954, Train: 0.9262 AUC, Valid: 0.7833 AUC, Test: 0.7733 AUC\n",
      "---\n",
      "Run: 02, Epoch: 74, Loss: 0.0947, Train: 0.9361 AUC, Valid: 0.7592 AUC, Test: 0.7649 AUC\n",
      "---\n",
      "Run: 02, Epoch: 75, Loss: 0.0925, Train: 0.9261 AUC, Valid: 0.7549 AUC, Test: 0.7708 AUC\n",
      "---\n",
      "Run: 02, Epoch: 76, Loss: 0.0935, Train: 0.9390 AUC, Valid: 0.7693 AUC, Test: 0.7697 AUC\n",
      "---\n",
      "Run: 02, Epoch: 77, Loss: 0.0932, Train: 0.9321 AUC, Valid: 0.7777 AUC, Test: 0.7708 AUC\n",
      "---\n",
      "Run: 02, Epoch: 78, Loss: 0.0933, Train: 0.9341 AUC, Valid: 0.7495 AUC, Test: 0.7475 AUC\n",
      "---\n",
      "Run: 02, Epoch: 79, Loss: 0.0922, Train: 0.9336 AUC, Valid: 0.7391 AUC, Test: 0.7764 AUC\n",
      "---\n",
      "Run: 02, Epoch: 80, Loss: 0.0927, Train: 0.9355 AUC, Valid: 0.7509 AUC, Test: 0.7573 AUC\n",
      "---\n",
      "Run: 02, Epoch: 81, Loss: 0.0932, Train: 0.9409 AUC, Valid: 0.7569 AUC, Test: 0.7875 AUC\n",
      "---\n",
      "Run: 02, Epoch: 82, Loss: 0.0916, Train: 0.9363 AUC, Valid: 0.7744 AUC, Test: 0.7564 AUC\n",
      "---\n",
      "Run: 02, Epoch: 83, Loss: 0.0899, Train: 0.9352 AUC, Valid: 0.7717 AUC, Test: 0.7728 AUC\n",
      "---\n",
      "Run: 02, Epoch: 84, Loss: 0.0907, Train: 0.9433 AUC, Valid: 0.7568 AUC, Test: 0.7513 AUC\n",
      "---\n",
      "Run: 02, Epoch: 85, Loss: 0.0908, Train: 0.9417 AUC, Valid: 0.7518 AUC, Test: 0.7773 AUC\n",
      "---\n",
      "Run: 02, Epoch: 86, Loss: 0.0908, Train: 0.9404 AUC, Valid: 0.7658 AUC, Test: 0.7577 AUC\n",
      "---\n",
      "Run: 02, Epoch: 87, Loss: 0.0894, Train: 0.9452 AUC, Valid: 0.7644 AUC, Test: 0.7590 AUC\n",
      "---\n",
      "Run: 02, Epoch: 88, Loss: 0.0897, Train: 0.9491 AUC, Valid: 0.7729 AUC, Test: 0.7579 AUC\n",
      "---\n",
      "Run: 02, Epoch: 89, Loss: 0.0888, Train: 0.9428 AUC, Valid: 0.7586 AUC, Test: 0.7594 AUC\n",
      "---\n",
      "Run: 02, Epoch: 90, Loss: 0.0890, Train: 0.9487 AUC, Valid: 0.7767 AUC, Test: 0.7420 AUC\n",
      "---\n",
      "Run: 02, Epoch: 91, Loss: 0.0870, Train: 0.9471 AUC, Valid: 0.7557 AUC, Test: 0.7586 AUC\n",
      "---\n",
      "Run: 02, Epoch: 92, Loss: 0.0868, Train: 0.9480 AUC, Valid: 0.7683 AUC, Test: 0.7586 AUC\n",
      "---\n",
      "Run: 02, Epoch: 93, Loss: 0.0867, Train: 0.9494 AUC, Valid: 0.7831 AUC, Test: 0.7555 AUC\n",
      "---\n",
      "Run: 02, Epoch: 94, Loss: 0.0868, Train: 0.9493 AUC, Valid: 0.7614 AUC, Test: 0.7596 AUC\n",
      "---\n",
      "Run: 02, Epoch: 95, Loss: 0.0863, Train: 0.9560 AUC, Valid: 0.7680 AUC, Test: 0.7491 AUC\n",
      "---\n",
      "Run: 02, Epoch: 96, Loss: 0.0851, Train: 0.9549 AUC, Valid: 0.7681 AUC, Test: 0.7579 AUC\n",
      "---\n",
      "Run: 02, Epoch: 97, Loss: 0.0862, Train: 0.9534 AUC, Valid: 0.7664 AUC, Test: 0.7386 AUC\n",
      "---\n",
      "Run: 02, Epoch: 98, Loss: 0.0842, Train: 0.9565 AUC, Valid: 0.7681 AUC, Test: 0.7566 AUC\n",
      "---\n",
      "Run: 02, Epoch: 99, Loss: 0.0856, Train: 0.9521 AUC, Valid: 0.7843 AUC, Test: 0.7625 AUC\n",
      "---\n",
      "Run: 02, Epoch: 100, Loss: 0.0837, Train: 0.9558 AUC, Valid: 0.7776 AUC, Test: 0.7571 AUC\n",
      "---\n",
      "Run 02:\n",
      "Highest Train: 95.65\n",
      "Highest Valid: 80.38\n",
      "  Final Train: 77.91\n",
      "   Final Test: 73.48\n",
      "Run: 03, Epoch: 01, Loss: 0.1926, Train: 0.6406 AUC, Valid: 0.6336 AUC, Test: 0.5211 AUC\n",
      "---\n",
      "Run: 03, Epoch: 02, Loss: 0.1503, Train: 0.7169 AUC, Valid: 0.6843 AUC, Test: 0.6623 AUC\n",
      "---\n",
      "Run: 03, Epoch: 03, Loss: 0.1470, Train: 0.7449 AUC, Valid: 0.7472 AUC, Test: 0.7321 AUC\n",
      "---\n",
      "Run: 03, Epoch: 04, Loss: 0.1442, Train: 0.7612 AUC, Valid: 0.7694 AUC, Test: 0.7248 AUC\n",
      "---\n",
      "Run: 03, Epoch: 05, Loss: 0.1433, Train: 0.7543 AUC, Valid: 0.7434 AUC, Test: 0.6989 AUC\n",
      "---\n",
      "Run: 03, Epoch: 06, Loss: 0.1416, Train: 0.7776 AUC, Valid: 0.7722 AUC, Test: 0.7307 AUC\n",
      "---\n",
      "Run: 03, Epoch: 07, Loss: 0.1403, Train: 0.7555 AUC, Valid: 0.7546 AUC, Test: 0.7104 AUC\n",
      "---\n",
      "Run: 03, Epoch: 08, Loss: 0.1384, Train: 0.7861 AUC, Valid: 0.7573 AUC, Test: 0.7437 AUC\n",
      "---\n",
      "Run: 03, Epoch: 09, Loss: 0.1362, Train: 0.7871 AUC, Valid: 0.7631 AUC, Test: 0.6898 AUC\n",
      "---\n",
      "Run: 03, Epoch: 10, Loss: 0.1352, Train: 0.8063 AUC, Valid: 0.7737 AUC, Test: 0.7587 AUC\n",
      "---\n",
      "Run: 03, Epoch: 11, Loss: 0.1337, Train: 0.7929 AUC, Valid: 0.7708 AUC, Test: 0.7067 AUC\n",
      "---\n",
      "Run: 03, Epoch: 12, Loss: 0.1336, Train: 0.8077 AUC, Valid: 0.7650 AUC, Test: 0.7278 AUC\n",
      "---\n",
      "Run: 03, Epoch: 13, Loss: 0.1314, Train: 0.7940 AUC, Valid: 0.7408 AUC, Test: 0.7239 AUC\n",
      "---\n",
      "Run: 03, Epoch: 14, Loss: 0.1302, Train: 0.8040 AUC, Valid: 0.7547 AUC, Test: 0.7287 AUC\n",
      "---\n",
      "Run: 03, Epoch: 15, Loss: 0.1301, Train: 0.8188 AUC, Valid: 0.7830 AUC, Test: 0.7499 AUC\n",
      "---\n",
      "Run: 03, Epoch: 16, Loss: 0.1291, Train: 0.8146 AUC, Valid: 0.7685 AUC, Test: 0.7307 AUC\n",
      "---\n",
      "Run: 03, Epoch: 17, Loss: 0.1291, Train: 0.8226 AUC, Valid: 0.7802 AUC, Test: 0.7512 AUC\n",
      "---\n",
      "Run: 03, Epoch: 18, Loss: 0.1275, Train: 0.8301 AUC, Valid: 0.7940 AUC, Test: 0.7446 AUC\n",
      "---\n",
      "Run: 03, Epoch: 19, Loss: 0.1269, Train: 0.8296 AUC, Valid: 0.7909 AUC, Test: 0.7430 AUC\n",
      "---\n",
      "Run: 03, Epoch: 20, Loss: 0.1268, Train: 0.8322 AUC, Valid: 0.7879 AUC, Test: 0.7351 AUC\n",
      "---\n",
      "Run: 03, Epoch: 21, Loss: 0.1254, Train: 0.8315 AUC, Valid: 0.7650 AUC, Test: 0.7304 AUC\n",
      "---\n",
      "Run: 03, Epoch: 22, Loss: 0.1241, Train: 0.8356 AUC, Valid: 0.7585 AUC, Test: 0.7062 AUC\n",
      "---\n",
      "Run: 03, Epoch: 23, Loss: 0.1230, Train: 0.8439 AUC, Valid: 0.7707 AUC, Test: 0.7428 AUC\n",
      "---\n",
      "Run: 03, Epoch: 24, Loss: 0.1211, Train: 0.8393 AUC, Valid: 0.7695 AUC, Test: 0.7342 AUC\n",
      "---\n",
      "Run: 03, Epoch: 25, Loss: 0.1224, Train: 0.8468 AUC, Valid: 0.8027 AUC, Test: 0.7400 AUC\n",
      "---\n",
      "Run: 03, Epoch: 26, Loss: 0.1209, Train: 0.8421 AUC, Valid: 0.7848 AUC, Test: 0.7662 AUC\n",
      "---\n",
      "Run: 03, Epoch: 27, Loss: 0.1199, Train: 0.8509 AUC, Valid: 0.7696 AUC, Test: 0.7406 AUC\n",
      "---\n",
      "Run: 03, Epoch: 28, Loss: 0.1198, Train: 0.8493 AUC, Valid: 0.7710 AUC, Test: 0.7383 AUC\n",
      "---\n",
      "Run: 03, Epoch: 29, Loss: 0.1185, Train: 0.8538 AUC, Valid: 0.7820 AUC, Test: 0.7580 AUC\n",
      "---\n",
      "Run: 03, Epoch: 30, Loss: 0.1190, Train: 0.8534 AUC, Valid: 0.7803 AUC, Test: 0.7499 AUC\n",
      "---\n",
      "Run: 03, Epoch: 31, Loss: 0.1181, Train: 0.8524 AUC, Valid: 0.7545 AUC, Test: 0.7362 AUC\n",
      "---\n",
      "Run: 03, Epoch: 32, Loss: 0.1177, Train: 0.8621 AUC, Valid: 0.7773 AUC, Test: 0.7549 AUC\n",
      "---\n",
      "Run: 03, Epoch: 33, Loss: 0.1167, Train: 0.8720 AUC, Valid: 0.7896 AUC, Test: 0.7532 AUC\n",
      "---\n",
      "Run: 03, Epoch: 34, Loss: 0.1168, Train: 0.8580 AUC, Valid: 0.7893 AUC, Test: 0.7514 AUC\n",
      "---\n",
      "Run: 03, Epoch: 35, Loss: 0.1152, Train: 0.8706 AUC, Valid: 0.7797 AUC, Test: 0.7213 AUC\n",
      "---\n",
      "Run: 03, Epoch: 36, Loss: 0.1148, Train: 0.8611 AUC, Valid: 0.8170 AUC, Test: 0.7510 AUC\n",
      "---\n",
      "Run: 03, Epoch: 37, Loss: 0.1145, Train: 0.8706 AUC, Valid: 0.7913 AUC, Test: 0.7339 AUC\n",
      "---\n",
      "Run: 03, Epoch: 38, Loss: 0.1138, Train: 0.8806 AUC, Valid: 0.8014 AUC, Test: 0.7569 AUC\n",
      "---\n",
      "Run: 03, Epoch: 39, Loss: 0.1125, Train: 0.8774 AUC, Valid: 0.7876 AUC, Test: 0.7306 AUC\n",
      "---\n",
      "Run: 03, Epoch: 40, Loss: 0.1132, Train: 0.8809 AUC, Valid: 0.7875 AUC, Test: 0.7583 AUC\n",
      "---\n",
      "Run: 03, Epoch: 41, Loss: 0.1121, Train: 0.8641 AUC, Valid: 0.7644 AUC, Test: 0.7158 AUC\n",
      "---\n",
      "Run: 03, Epoch: 42, Loss: 0.1114, Train: 0.8850 AUC, Valid: 0.7802 AUC, Test: 0.7564 AUC\n",
      "---\n",
      "Run: 03, Epoch: 43, Loss: 0.1091, Train: 0.8791 AUC, Valid: 0.7681 AUC, Test: 0.7457 AUC\n",
      "---\n",
      "Run: 03, Epoch: 44, Loss: 0.1101, Train: 0.8810 AUC, Valid: 0.7916 AUC, Test: 0.7348 AUC\n",
      "---\n",
      "Run: 03, Epoch: 45, Loss: 0.1099, Train: 0.8926 AUC, Valid: 0.7651 AUC, Test: 0.7566 AUC\n",
      "---\n",
      "Run: 03, Epoch: 46, Loss: 0.1078, Train: 0.8905 AUC, Valid: 0.7985 AUC, Test: 0.7539 AUC\n",
      "---\n",
      "Run: 03, Epoch: 47, Loss: 0.1073, Train: 0.9018 AUC, Valid: 0.7947 AUC, Test: 0.7670 AUC\n",
      "---\n",
      "Run: 03, Epoch: 48, Loss: 0.1075, Train: 0.8919 AUC, Valid: 0.8027 AUC, Test: 0.7504 AUC\n",
      "---\n",
      "Run: 03, Epoch: 49, Loss: 0.1077, Train: 0.8891 AUC, Valid: 0.8080 AUC, Test: 0.7381 AUC\n",
      "---\n",
      "Run: 03, Epoch: 50, Loss: 0.1077, Train: 0.8969 AUC, Valid: 0.7905 AUC, Test: 0.7623 AUC\n",
      "---\n",
      "Run: 03, Epoch: 51, Loss: 0.1058, Train: 0.8963 AUC, Valid: 0.7902 AUC, Test: 0.7429 AUC\n",
      "---\n",
      "Run: 03, Epoch: 52, Loss: 0.1050, Train: 0.8993 AUC, Valid: 0.7903 AUC, Test: 0.7413 AUC\n",
      "---\n",
      "Run: 03, Epoch: 53, Loss: 0.1048, Train: 0.9010 AUC, Valid: 0.7758 AUC, Test: 0.7577 AUC\n",
      "---\n",
      "Run: 03, Epoch: 54, Loss: 0.1048, Train: 0.8985 AUC, Valid: 0.7786 AUC, Test: 0.7491 AUC\n",
      "---\n",
      "Run: 03, Epoch: 55, Loss: 0.1037, Train: 0.9045 AUC, Valid: 0.7939 AUC, Test: 0.7536 AUC\n",
      "---\n",
      "Run: 03, Epoch: 56, Loss: 0.1030, Train: 0.9067 AUC, Valid: 0.7999 AUC, Test: 0.7587 AUC\n",
      "---\n",
      "Run: 03, Epoch: 57, Loss: 0.1033, Train: 0.9062 AUC, Valid: 0.7848 AUC, Test: 0.7558 AUC\n",
      "---\n",
      "Run: 03, Epoch: 58, Loss: 0.1025, Train: 0.9002 AUC, Valid: 0.8023 AUC, Test: 0.7479 AUC\n",
      "---\n",
      "Run: 03, Epoch: 59, Loss: 0.1036, Train: 0.9112 AUC, Valid: 0.7692 AUC, Test: 0.7624 AUC\n",
      "---\n",
      "Run: 03, Epoch: 60, Loss: 0.1015, Train: 0.8966 AUC, Valid: 0.7950 AUC, Test: 0.7641 AUC\n",
      "---\n",
      "Run: 03, Epoch: 61, Loss: 0.1014, Train: 0.9142 AUC, Valid: 0.7897 AUC, Test: 0.7568 AUC\n",
      "---\n",
      "Run: 03, Epoch: 62, Loss: 0.1012, Train: 0.9094 AUC, Valid: 0.7833 AUC, Test: 0.7669 AUC\n",
      "---\n",
      "Run: 03, Epoch: 63, Loss: 0.1008, Train: 0.9167 AUC, Valid: 0.7988 AUC, Test: 0.7588 AUC\n",
      "---\n",
      "Run: 03, Epoch: 64, Loss: 0.0986, Train: 0.9104 AUC, Valid: 0.7831 AUC, Test: 0.7620 AUC\n",
      "---\n",
      "Run: 03, Epoch: 65, Loss: 0.0995, Train: 0.9081 AUC, Valid: 0.7954 AUC, Test: 0.7503 AUC\n",
      "---\n",
      "Run: 03, Epoch: 66, Loss: 0.0998, Train: 0.9211 AUC, Valid: 0.7895 AUC, Test: 0.7568 AUC\n",
      "---\n",
      "Run: 03, Epoch: 67, Loss: 0.0987, Train: 0.9212 AUC, Valid: 0.7954 AUC, Test: 0.7613 AUC\n",
      "---\n",
      "Run: 03, Epoch: 68, Loss: 0.0980, Train: 0.9179 AUC, Valid: 0.7992 AUC, Test: 0.7795 AUC\n",
      "---\n",
      "Run: 03, Epoch: 69, Loss: 0.0975, Train: 0.9197 AUC, Valid: 0.7837 AUC, Test: 0.7754 AUC\n",
      "---\n"
     ]
    },
    {
     "ename": "KeyboardInterrupt",
     "evalue": "",
     "output_type": "error",
     "traceback": [
      "\u001b[0;31m---------------------------------------------------------------------------\u001b[0m",
      "\u001b[0;31mKeyboardInterrupt\u001b[0m                         Traceback (most recent call last)",
      "Cell \u001b[0;32mIn[34], line 1\u001b[0m\n\u001b[0;32m----> 1\u001b[0m logger \u001b[39m=\u001b[39m repeat_experiments(\n\u001b[1;32m      2\u001b[0m     model, train_dataloader, val_dataloader, test_dataloader, \n\u001b[1;32m      3\u001b[0m     device, train_args, N_runs)\n",
      "File \u001b[0;32m~/repos/dgl2/utils.py:180\u001b[0m, in \u001b[0;36mrepeat_experiments\u001b[0;34m(model, dl_train, dl_val, dl_test, device, train_args, n_runs)\u001b[0m\n\u001b[1;32m    167\u001b[0m     logger \u001b[39m=\u001b[39m train(\n\u001b[1;32m    168\u001b[0m         model,\n\u001b[1;32m    169\u001b[0m         dl_train,\n\u001b[0;32m   (...)\u001b[0m\n\u001b[1;32m    175\u001b[0m         run,\n\u001b[1;32m    176\u001b[0m     )\n\u001b[1;32m    178\u001b[0m     logger\u001b[39m.\u001b[39mprint_statistics(run)\n\u001b[0;32m--> 180\u001b[0m logger\u001b[39m.\u001b[39mprint_statistics()\n\u001b[1;32m    181\u001b[0m \u001b[39mreturn\u001b[39;00m logger\n",
      "File \u001b[0;32m~/repos/dgl2/utils.py:152\u001b[0m, in \u001b[0;36mtrain\u001b[0;34m(model, dl_train, dl_val, dl_test, device, logger, args, run)\u001b[0m\n\u001b[1;32m    143\u001b[0m         logger\u001b[39m.\u001b[39madd_result(run, result)\n\u001b[1;32m    145\u001b[0m         \u001b[39mif\u001b[39;00m epoch \u001b[39m%\u001b[39m args[\u001b[39m\"\u001b[39m\u001b[39mlog_steps\u001b[39m\u001b[39m\"\u001b[39m] \u001b[39m==\u001b[39m \u001b[39m0\u001b[39m:\n\u001b[1;32m    146\u001b[0m             \u001b[39mprint\u001b[39m(\n\u001b[1;32m    147\u001b[0m                 \u001b[39mf\u001b[39m\u001b[39m\"\u001b[39m\u001b[39mRun: \u001b[39m\u001b[39m{\u001b[39;00mrun\u001b[39m+\u001b[39m\u001b[39m1\u001b[39m\u001b[39m:\u001b[39;00m\u001b[39m02d\u001b[39m\u001b[39m}\u001b[39;00m\u001b[39m, \u001b[39m\u001b[39m\"\u001b[39m\n\u001b[1;32m    148\u001b[0m                 \u001b[39mf\u001b[39m\u001b[39m\"\u001b[39m\u001b[39mEpoch: \u001b[39m\u001b[39m{\u001b[39;00mepoch\u001b[39m:\u001b[39;00m\u001b[39m02d\u001b[39m\u001b[39m}\u001b[39;00m\u001b[39m, \u001b[39m\u001b[39m\"\u001b[39m\n\u001b[1;32m    149\u001b[0m                 \u001b[39mf\u001b[39m\u001b[39m\"\u001b[39m\u001b[39mLoss: \u001b[39m\u001b[39m{\u001b[39;00mloss\u001b[39m:\u001b[39;00m\u001b[39m.4f\u001b[39m\u001b[39m}\u001b[39;00m\u001b[39m, \u001b[39m\u001b[39m\"\u001b[39m\n\u001b[1;32m    150\u001b[0m                 \u001b[39mf\u001b[39m\u001b[39m\"\u001b[39m\u001b[39mTrain: \u001b[39m\u001b[39m{\u001b[39;00mtrain_roc\u001b[39m:\u001b[39;00m\u001b[39m.4f\u001b[39m\u001b[39m}\u001b[39;00m\u001b[39m AUC, \u001b[39m\u001b[39m\"\u001b[39m\n\u001b[1;32m    151\u001b[0m                 \u001b[39mf\u001b[39m\u001b[39m\"\u001b[39m\u001b[39mValid: \u001b[39m\u001b[39m{\u001b[39;00mval_roc\u001b[39m:\u001b[39;00m\u001b[39m.4f\u001b[39m\u001b[39m}\u001b[39;00m\u001b[39m AUC, \u001b[39m\u001b[39m\"\u001b[39m\n\u001b[0;32m--> 152\u001b[0m                 \u001b[39mf\u001b[39m\u001b[39m\"\u001b[39m\u001b[39mTest: \u001b[39m\u001b[39m{\u001b[39;00mtest_roc\u001b[39m:\u001b[39;00m\u001b[39m.4f\u001b[39m\u001b[39m}\u001b[39;00m\u001b[39m AUC\u001b[39m\u001b[39m\"\u001b[39m\n\u001b[1;32m    153\u001b[0m             )\n\u001b[1;32m    154\u001b[0m             \u001b[39mprint\u001b[39m(\u001b[39m\"\u001b[39m\u001b[39m---\u001b[39m\u001b[39m\"\u001b[39m)\n\u001b[1;32m    156\u001b[0m \u001b[39mreturn\u001b[39;00m logger\n",
      "File \u001b[0;32m~/repos/dgl2/venv/lib/python3.10/site-packages/torch/utils/_contextlib.py:115\u001b[0m, in \u001b[0;36mcontext_decorator.<locals>.decorate_context\u001b[0;34m(*args, **kwargs)\u001b[0m\n\u001b[1;32m    112\u001b[0m \u001b[39m@functools\u001b[39m\u001b[39m.\u001b[39mwraps(func)\n\u001b[1;32m    113\u001b[0m \u001b[39mdef\u001b[39;00m \u001b[39mdecorate_context\u001b[39m(\u001b[39m*\u001b[39margs, \u001b[39m*\u001b[39m\u001b[39m*\u001b[39mkwargs):\n\u001b[1;32m    114\u001b[0m     \u001b[39mwith\u001b[39;00m ctx_factory():\n\u001b[0;32m--> 115\u001b[0m         \u001b[39mreturn\u001b[39;00m func(\u001b[39m*\u001b[39;49margs, \u001b[39m*\u001b[39;49m\u001b[39m*\u001b[39;49mkwargs)\n",
      "File \u001b[0;32m~/repos/dgl2/utils.py:123\u001b[0m, in \u001b[0;36mtest\u001b[0;34m(model, loader, device)\u001b[0m\n\u001b[1;32m    121\u001b[0m \u001b[39mdef\u001b[39;00m \u001b[39mtrain\u001b[39m(model, dl_train, dl_val, dl_test, device, logger, args, run):\n\u001b[1;32m    122\u001b[0m \u001b[39m    \u001b[39m\u001b[39m\"\"\"\u001b[39;00m\n\u001b[0;32m--> 123\u001b[0m \u001b[39m    A complete model training loop\u001b[39;00m\n\u001b[1;32m    124\u001b[0m \u001b[39m    \"\"\"\u001b[39;00m\n\u001b[1;32m    125\u001b[0m     optimizer \u001b[39m=\u001b[39m th\u001b[39m.\u001b[39moptim\u001b[39m.\u001b[39mAdam(\n\u001b[1;32m    126\u001b[0m         model\u001b[39m.\u001b[39mparameters(),\n\u001b[1;32m    127\u001b[0m         lr\u001b[39m=\u001b[39margs[\u001b[39m\"\u001b[39m\u001b[39mlr\u001b[39m\u001b[39m\"\u001b[39m],\n\u001b[1;32m    128\u001b[0m     )\n\u001b[1;32m    130\u001b[0m     \u001b[39mfor\u001b[39;00m epoch \u001b[39min\u001b[39;00m \u001b[39mrange\u001b[39m(\u001b[39m1\u001b[39m, \u001b[39m1\u001b[39m \u001b[39m+\u001b[39m args[\u001b[39m\"\u001b[39m\u001b[39mepochs\u001b[39m\u001b[39m\"\u001b[39m]):\n",
      "File \u001b[0;32m~/repos/dgl2/venv/lib/python3.10/site-packages/torch/nn/modules/module.py:1501\u001b[0m, in \u001b[0;36mModule._call_impl\u001b[0;34m(self, *args, **kwargs)\u001b[0m\n\u001b[1;32m   1496\u001b[0m \u001b[39m# If we don't have any hooks, we want to skip the rest of the logic in\u001b[39;00m\n\u001b[1;32m   1497\u001b[0m \u001b[39m# this function, and just call forward.\u001b[39;00m\n\u001b[1;32m   1498\u001b[0m \u001b[39mif\u001b[39;00m \u001b[39mnot\u001b[39;00m (\u001b[39mself\u001b[39m\u001b[39m.\u001b[39m_backward_hooks \u001b[39mor\u001b[39;00m \u001b[39mself\u001b[39m\u001b[39m.\u001b[39m_backward_pre_hooks \u001b[39mor\u001b[39;00m \u001b[39mself\u001b[39m\u001b[39m.\u001b[39m_forward_hooks \u001b[39mor\u001b[39;00m \u001b[39mself\u001b[39m\u001b[39m.\u001b[39m_forward_pre_hooks\n\u001b[1;32m   1499\u001b[0m         \u001b[39mor\u001b[39;00m _global_backward_pre_hooks \u001b[39mor\u001b[39;00m _global_backward_hooks\n\u001b[1;32m   1500\u001b[0m         \u001b[39mor\u001b[39;00m _global_forward_hooks \u001b[39mor\u001b[39;00m _global_forward_pre_hooks):\n\u001b[0;32m-> 1501\u001b[0m     \u001b[39mreturn\u001b[39;00m forward_call(\u001b[39m*\u001b[39;49margs, \u001b[39m*\u001b[39;49m\u001b[39m*\u001b[39;49mkwargs)\n\u001b[1;32m   1502\u001b[0m \u001b[39m# Do not call functions when jit is used\u001b[39;00m\n\u001b[1;32m   1503\u001b[0m full_backward_hooks, non_full_backward_hooks \u001b[39m=\u001b[39m [], []\n",
      "Cell \u001b[0;32mIn[29], line 18\u001b[0m, in \u001b[0;36mGraphGNN.forward\u001b[0;34m(self, g)\u001b[0m\n\u001b[1;32m     17\u001b[0m \u001b[39mdef\u001b[39;00m \u001b[39mforward\u001b[39m(\u001b[39mself\u001b[39m, g): \u001b[39m# !!! g is a batched super-graph\u001b[39;00m\n\u001b[0;32m---> 18\u001b[0m     h_node \u001b[39m=\u001b[39m \u001b[39mself\u001b[39;49m\u001b[39m.\u001b[39;49mnode_GNN(g) \u001b[39m# node-level embeddings with self.node_GNN\u001b[39;00m\n\u001b[1;32m     20\u001b[0m     \u001b[39m# pool the node-level embedding to get graph representations\u001b[39;00m\n\u001b[1;32m     21\u001b[0m     \u001b[39mwith\u001b[39;00m g\u001b[39m.\u001b[39mlocal_scope():\n",
      "File \u001b[0;32m~/repos/dgl2/venv/lib/python3.10/site-packages/torch/nn/modules/module.py:1501\u001b[0m, in \u001b[0;36mModule._call_impl\u001b[0;34m(self, *args, **kwargs)\u001b[0m\n\u001b[1;32m   1496\u001b[0m \u001b[39m# If we don't have any hooks, we want to skip the rest of the logic in\u001b[39;00m\n\u001b[1;32m   1497\u001b[0m \u001b[39m# this function, and just call forward.\u001b[39;00m\n\u001b[1;32m   1498\u001b[0m \u001b[39mif\u001b[39;00m \u001b[39mnot\u001b[39;00m (\u001b[39mself\u001b[39m\u001b[39m.\u001b[39m_backward_hooks \u001b[39mor\u001b[39;00m \u001b[39mself\u001b[39m\u001b[39m.\u001b[39m_backward_pre_hooks \u001b[39mor\u001b[39;00m \u001b[39mself\u001b[39m\u001b[39m.\u001b[39m_forward_hooks \u001b[39mor\u001b[39;00m \u001b[39mself\u001b[39m\u001b[39m.\u001b[39m_forward_pre_hooks\n\u001b[1;32m   1499\u001b[0m         \u001b[39mor\u001b[39;00m _global_backward_pre_hooks \u001b[39mor\u001b[39;00m _global_backward_hooks\n\u001b[1;32m   1500\u001b[0m         \u001b[39mor\u001b[39;00m _global_forward_hooks \u001b[39mor\u001b[39;00m _global_forward_pre_hooks):\n\u001b[0;32m-> 1501\u001b[0m     \u001b[39mreturn\u001b[39;00m forward_call(\u001b[39m*\u001b[39;49margs, \u001b[39m*\u001b[39;49m\u001b[39m*\u001b[39;49mkwargs)\n\u001b[1;32m   1502\u001b[0m \u001b[39m# Do not call functions when jit is used\u001b[39;00m\n\u001b[1;32m   1503\u001b[0m full_backward_hooks, non_full_backward_hooks \u001b[39m=\u001b[39m [], []\n",
      "Cell \u001b[0;32mIn[24], line 42\u001b[0m, in \u001b[0;36mNodeGNN.forward\u001b[0;34m(self, g)\u001b[0m\n\u001b[1;32m     39\u001b[0m edge_embedding \u001b[39m=\u001b[39m \u001b[39mself\u001b[39m\u001b[39m.\u001b[39mbond_encoder(g\u001b[39m.\u001b[39medata[\u001b[39m'\u001b[39m\u001b[39mfeat\u001b[39m\u001b[39m'\u001b[39m]) \u001b[39m# edge embeddings\u001b[39;00m\n\u001b[1;32m     41\u001b[0m \u001b[39mfor\u001b[39;00m layer \u001b[39min\u001b[39;00m \u001b[39mrange\u001b[39m(\u001b[39mself\u001b[39m\u001b[39m.\u001b[39mnum_layers):\n\u001b[0;32m---> 42\u001b[0m     h \u001b[39m=\u001b[39m \u001b[39mself\u001b[39;49m\u001b[39m.\u001b[39;49mconvs[layer](g, h, edge_embedding)\n\u001b[1;32m     43\u001b[0m     h \u001b[39m=\u001b[39m \u001b[39mself\u001b[39m\u001b[39m.\u001b[39mbatch_norms[layer](h)\n\u001b[1;32m     44\u001b[0m     \u001b[39mif\u001b[39;00m layer \u001b[39m==\u001b[39m \u001b[39mself\u001b[39m\u001b[39m.\u001b[39mnum_layers \u001b[39m-\u001b[39m \u001b[39m1\u001b[39m:\n\u001b[1;32m     45\u001b[0m         \u001b[39m#remove relu for the last layer\u001b[39;00m\n",
      "File \u001b[0;32m~/repos/dgl2/venv/lib/python3.10/site-packages/torch/nn/modules/module.py:1501\u001b[0m, in \u001b[0;36mModule._call_impl\u001b[0;34m(self, *args, **kwargs)\u001b[0m\n\u001b[1;32m   1496\u001b[0m \u001b[39m# If we don't have any hooks, we want to skip the rest of the logic in\u001b[39;00m\n\u001b[1;32m   1497\u001b[0m \u001b[39m# this function, and just call forward.\u001b[39;00m\n\u001b[1;32m   1498\u001b[0m \u001b[39mif\u001b[39;00m \u001b[39mnot\u001b[39;00m (\u001b[39mself\u001b[39m\u001b[39m.\u001b[39m_backward_hooks \u001b[39mor\u001b[39;00m \u001b[39mself\u001b[39m\u001b[39m.\u001b[39m_backward_pre_hooks \u001b[39mor\u001b[39;00m \u001b[39mself\u001b[39m\u001b[39m.\u001b[39m_forward_hooks \u001b[39mor\u001b[39;00m \u001b[39mself\u001b[39m\u001b[39m.\u001b[39m_forward_pre_hooks\n\u001b[1;32m   1499\u001b[0m         \u001b[39mor\u001b[39;00m _global_backward_pre_hooks \u001b[39mor\u001b[39;00m _global_backward_hooks\n\u001b[1;32m   1500\u001b[0m         \u001b[39mor\u001b[39;00m _global_forward_hooks \u001b[39mor\u001b[39;00m _global_forward_pre_hooks):\n\u001b[0;32m-> 1501\u001b[0m     \u001b[39mreturn\u001b[39;00m forward_call(\u001b[39m*\u001b[39;49margs, \u001b[39m*\u001b[39;49m\u001b[39m*\u001b[39;49mkwargs)\n\u001b[1;32m   1502\u001b[0m \u001b[39m# Do not call functions when jit is used\u001b[39;00m\n\u001b[1;32m   1503\u001b[0m full_backward_hooks, non_full_backward_hooks \u001b[39m=\u001b[39m [], []\n",
      "Cell \u001b[0;32mIn[20], line 60\u001b[0m, in \u001b[0;36mGINLayer.forward\u001b[0;34m(self, g, x_node, x_edge)\u001b[0m\n\u001b[1;32m     57\u001b[0m     h_mp \u001b[39m=\u001b[39m g\u001b[39m.\u001b[39mdstdata[\u001b[39m'\u001b[39m\u001b[39mmp\u001b[39m\u001b[39m'\u001b[39m] \u001b[39m# will be used in the next layer\u001b[39;00m\n\u001b[1;32m     59\u001b[0m \u001b[39m# GIN update equation\u001b[39;00m\n\u001b[0;32m---> 60\u001b[0m out \u001b[39m=\u001b[39m \u001b[39mself\u001b[39;49m\u001b[39m.\u001b[39;49mmlp((\u001b[39m1\u001b[39;49m \u001b[39m+\u001b[39;49m \u001b[39mself\u001b[39;49m\u001b[39m.\u001b[39;49meps) \u001b[39m*\u001b[39;49m x_node \u001b[39m+\u001b[39;49m h_mp)\n\u001b[1;32m     62\u001b[0m \u001b[39mreturn\u001b[39;00m out\n",
      "File \u001b[0;32m~/repos/dgl2/venv/lib/python3.10/site-packages/torch/nn/modules/module.py:1494\u001b[0m, in \u001b[0;36mModule._call_impl\u001b[0;34m(self, *args, **kwargs)\u001b[0m\n\u001b[1;32m   1491\u001b[0m             tracing_state\u001b[39m.\u001b[39mpop_scope()\n\u001b[1;32m   1492\u001b[0m     \u001b[39mreturn\u001b[39;00m result\n\u001b[0;32m-> 1494\u001b[0m \u001b[39mdef\u001b[39;00m \u001b[39m_call_impl\u001b[39m(\u001b[39mself\u001b[39m, \u001b[39m*\u001b[39margs, \u001b[39m*\u001b[39m\u001b[39m*\u001b[39mkwargs):\n\u001b[1;32m   1495\u001b[0m     forward_call \u001b[39m=\u001b[39m (\u001b[39mself\u001b[39m\u001b[39m.\u001b[39m_slow_forward \u001b[39mif\u001b[39;00m torch\u001b[39m.\u001b[39m_C\u001b[39m.\u001b[39m_get_tracing_state() \u001b[39melse\u001b[39;00m \u001b[39mself\u001b[39m\u001b[39m.\u001b[39mforward)\n\u001b[1;32m   1496\u001b[0m     \u001b[39m# If we don't have any hooks, we want to skip the rest of the logic in\u001b[39;00m\n\u001b[1;32m   1497\u001b[0m     \u001b[39m# this function, and just call forward.\u001b[39;00m\n",
      "\u001b[0;31mKeyboardInterrupt\u001b[0m: "
     ]
    }
   ],
   "source": [
    "logger = repeat_experiments(\n",
    "    model, train_dataloader, val_dataloader, test_dataloader, \n",
    "    device, train_args, N_runs)"
   ]
  },
  {
   "cell_type": "code",
   "execution_count": 35,
   "metadata": {},
   "outputs": [
    {
     "ename": "NameError",
     "evalue": "name 'logger' is not defined",
     "output_type": "error",
     "traceback": [
      "\u001b[0;31m---------------------------------------------------------------------------\u001b[0m",
      "\u001b[0;31mNameError\u001b[0m                                 Traceback (most recent call last)",
      "Cell \u001b[0;32mIn[35], line 2\u001b[0m\n\u001b[1;32m      1\u001b[0m \u001b[39m# Final performance\u001b[39;00m\n\u001b[0;32m----> 2\u001b[0m logger\u001b[39m.\u001b[39mprint_statistics()\n",
      "\u001b[0;31mNameError\u001b[0m: name 'logger' is not defined"
     ]
    }
   ],
   "source": [
    "# Final performance\n",
    "logger.print_statistics()"
   ]
  },
  {
   "cell_type": "code",
   "execution_count": 36,
   "metadata": {},
   "outputs": [
    {
     "data": {
      "image/png": "[encoded data removed]",
      "text/plain": [
       "<Figure size 640x480 with 1 Axes>"
      ]
     },
     "metadata": {},
     "output_type": "display_data"
    }
   ],
   "source": [
    "# This comparison only makes sense if using ~100 epochs during training\n",
    "val_auc_lb = 0.8232\n",
    "val_auc_lb_std = 0.0090\n",
    "test_auc_lb = 0.7558\n",
    "test_auc_lb_std = 0.0140\n",
    "\n",
    "norm_plot([\n",
    "    (test_auc_lb, test_auc_lb_std, \"GIN L.B.\"),\n",
    "    (0.7544, 0.0203, 'GIN local'),\n",
    "], 'Test ROC AUC Comparison over 10 runs')"
   ]
  },
  {
   "cell_type": "code",
   "execution_count": null,
   "metadata": {},
   "outputs": [],
   "source": [
    "# further reading\n",
    "# https://arxiv.org/abs/1704.01212"
   ]
  },
  {
   "cell_type": "code",
   "execution_count": null,
   "metadata": {},
   "outputs": [],
   "source": []
  },
  {
   "cell_type": "code",
   "execution_count": null,
   "metadata": {},
   "outputs": [],
   "source": []
  },
  {
   "cell_type": "code",
   "execution_count": null,
   "metadata": {},
   "outputs": [],
   "source": []
  },
  {
   "attachments": {},
   "cell_type": "markdown",
   "metadata": {},
   "source": []
  },
  {
   "attachments": {},
   "cell_type": "markdown",
   "metadata": {},
   "source": []
  }
 ],
 "metadata": {
  "kernelspec": {
   "display_name": "venv",
   "language": "python",
   "name": "python3"
  },
  "language_info": {
   "codemirror_mode": {
    "name": "ipython",
    "version": 3
   },
   "file_extension": ".py",
   "mimetype": "text/x-python",
   "name": "python",
   "nbconvert_exporter": "python",
   "pygments_lexer": "ipython3",
   "version": "3.10.8"
  },
  "orig_nbformat": 4
 },
 "nbformat": 4,
 "nbformat_minor": 2
}
