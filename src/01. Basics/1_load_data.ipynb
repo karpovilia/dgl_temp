{
  "cells": [
    {
      "cell_type": "markdown",
      "metadata": {
        "id": "Y_KmZgW4fiHn"
      },
      "source": [
        "# Load and Process Graph Data\n",
        "\n",
        "In this session, you will learn:\n",
        "\n",
        "* Load graph data stored in CSV files.\n",
        "* Construct a graph in DGL.\n",
        "* Query structural information of a DGL graph.\n",
        "* Load and pre-process node and edge features.\n",
        "* Assign features for message passing"
      ]
    },
    {
      "cell_type": "markdown",
      "metadata": {
        "id": "pnCyV1dcfiHp"
      },
      "source": [
        "## Load graph data from CSV"
      ]
    },
    {
      "cell_type": "markdown",
      "metadata": {
        "id": "ze5zpSNWfiHp"
      },
      "source": [
        "Comma Separated Values (CSV) is a widely-used format for storing relational data. In this tutorial, we have prepared two CSV files that store [the Zachery's Karate Club network](https://en.wikipedia.org/wiki/Zachary%27s_karate_club).\n",
        "* The `nodes.csv` stores every club members and their attributes.\n",
        "* The `edges.csv` stores the pair-wise interactions between two club members."
      ]
    },
    {
      "cell_type": "code",
      "execution_count": null,
      "metadata": {
        "id": "bQtZl7dkfiHp",
        "outputId": "c920cf22-4e34-4bee-df7d-ab47054975d3"
      },
      "outputs": [
        {
          "name": "stdout",
          "output_type": "stream",
          "text": [
            "total 12K\n",
            "-rw-r--r-- 1 ki ki 3.8K Nov 16 08:26 edges.csv\n",
            "-rw-r--r-- 1 ki ki 1.3K Nov 16 08:54 gen_data.py\n",
            "-rw-r--r-- 1 ki ki  461 Nov 16 08:26 nodes.csv\n"
          ]
        }
      ],
      "source": [
        "!ls -lh '../../dataset/karate'"
      ]
    },
    {
      "cell_type": "markdown",
      "metadata": {
        "id": "47irCi1OfiHr"
      },
      "source": [
        "We can use `pandas` to load the two CSV files."
      ]
    },
    {
      "cell_type": "code",
      "execution_count": null,
      "metadata": {
        "id": "a1JJNiNlfiHr",
        "outputId": "d4b24634-838b-49d3-a58e-0fb58d2d9534"
      },
      "outputs": [
        {
          "name": "stdout",
          "output_type": "stream",
          "text": [
            "    Id     Club  Age\n",
            "0    0   Mr. Hi   45\n",
            "1    1   Mr. Hi   33\n",
            "2    2   Mr. Hi   36\n",
            "3    3   Mr. Hi   31\n",
            "4    4   Mr. Hi   41\n",
            "5    5   Mr. Hi   42\n",
            "6    6   Mr. Hi   48\n",
            "7    7   Mr. Hi   41\n",
            "8    8   Mr. Hi   30\n",
            "9    9  Officer   35\n",
            "10  10   Mr. Hi   38\n",
            "11  11   Mr. Hi   44\n",
            "12  12   Mr. Hi   37\n",
            "13  13   Mr. Hi   39\n",
            "14  14  Officer   36\n",
            "15  15  Officer   38\n",
            "16  16   Mr. Hi   47\n",
            "17  17   Mr. Hi   45\n",
            "18  18  Officer   41\n",
            "19  19   Mr. Hi   31\n",
            "20  20  Officer   31\n",
            "21  21   Mr. Hi   44\n",
            "22  22  Officer   42\n",
            "23  23  Officer   32\n",
            "24  24  Officer   30\n",
            "25  25  Officer   50\n",
            "26  26  Officer   30\n",
            "27  27  Officer   43\n",
            "28  28  Officer   48\n",
            "29  29  Officer   40\n",
            "30  30  Officer   39\n",
            "31  31  Officer   45\n",
            "32  32  Officer   47\n",
            "33  33  Officer   33\n"
          ]
        }
      ],
      "source": [
        "import pandas as pd\n",
        "\n",
        "nodes_data = pd.read_csv('../../dataset/karate/nodes.csv')\n",
        "print(nodes_data)"
      ]
    },
    {
      "cell_type": "code",
      "execution_count": null,
      "metadata": {
        "id": "6N66WsatfiHr",
        "outputId": "23c164be-0fd6-4484-9705-4da2da4dff52"
      },
      "outputs": [
        {
          "name": "stdout",
          "output_type": "stream",
          "text": [
            "     Src  Dst    Weight\n",
            "0      0    1  0.318451\n",
            "1      0    2  0.551215\n",
            "2      0    3  0.227416\n",
            "3      0    4  0.266919\n",
            "4      0    5  0.475449\n",
            "..   ...  ...       ...\n",
            "151   33   28  0.266479\n",
            "152   33   29  0.279901\n",
            "153   33   30  0.652154\n",
            "154   33   31  0.828536\n",
            "155   33   32  0.842656\n",
            "\n",
            "[156 rows x 3 columns]\n"
          ]
        }
      ],
      "source": [
        "edges_data = pd.read_csv('../../dataset/karate/edges.csv')\n",
        "print(edges_data)"
      ]
    },
    {
      "cell_type": "markdown",
      "metadata": {
        "id": "0QfO_NumfiHr"
      },
      "source": [
        "We then construct a graph where each node is a club member and each edge represents their interactions. In DGL, **nodes are consecutive integers starting from zero**. Thus, when preparing the data, it is important to re-label or re-shuffle the row order so that the first row corresponding to the first nodes, so on and so forth.\n",
        "\n",
        "In this example, we have already prepared the data in the correct order, so we can create the graph by the `'Src'` and `'Dst'` columns from the `edges.csv` table."
      ]
    },
    {
      "cell_type": "code",
      "execution_count": null,
      "metadata": {
        "id": "fIb63vBEfiHr",
        "outputId": "bf23b284-739e-4723-a764-94b98b3f69ce"
      },
      "outputs": [
        {
          "name": "stdout",
          "output_type": "stream",
          "text": [
            "Graph(num_nodes=34, num_edges=156,\n",
            "      ndata_schemes={}\n",
            "      edata_schemes={})\n"
          ]
        }
      ],
      "source": [
        "import dgl\n",
        "\n",
        "src = edges_data['Src'].to_numpy()\n",
        "dst = edges_data['Dst'].to_numpy()\n",
        "\n",
        "# Create a DGL graph from a pair of numpy arrays\n",
        "g = dgl.graph((src, dst))\n",
        "\n",
        "# Print a graph gives some meta information such as number of nodes and edges.\n",
        "print(g)"
      ]
    },
    {
      "cell_type": "markdown",
      "metadata": {
        "id": "0KMlB254fiHr"
      },
      "source": [
        "A DGL graph can be converted to a `networkx` graph, so to utilize its rich functionalities such as visualization."
      ]
    },
    {
      "cell_type": "code",
      "execution_count": null,
      "metadata": {
        "id": "vjHCqhFdfiHs",
        "outputId": "9d62be9c-ab9b-4248-c9e3-ffbc2ec46ce3"
      },
      "outputs": [
        {
          "data": {
            "image/png": "[encoded data removed]",
            "text/plain": [
              "<Figure size 640x480 with 1 Axes>"
            ]
          },
          "metadata": {},
          "output_type": "display_data"
        }
      ],
      "source": [
        "import networkx as nx\n",
        "# Since the actual graph is undirected, we convert it for visualization\n",
        "# purpose.\n",
        "nx_g = g.to_networkx().to_undirected()\n",
        "# Kamada-Kawaii layout usually looks pretty for arbitrary graphs\n",
        "pos = nx.kamada_kawai_layout(nx_g)\n",
        "nx.draw(nx_g, pos, with_labels=True, node_color=[[.7, .7, .7]])"
      ]
    },
    {
      "cell_type": "markdown",
      "metadata": {
        "id": "2dqbWL6ifiHs"
      },
      "source": [
        "## Query graph structures"
      ]
    },
    {
      "cell_type": "markdown",
      "metadata": {
        "id": "5ms3OyiEfiHs"
      },
      "source": [
        "Let's print out how many nodes and edges are there in this graph."
      ]
    },
    {
      "cell_type": "code",
      "execution_count": null,
      "metadata": {
        "id": "R-8ICWZ9fiHs",
        "outputId": "5b6df2a6-7bc7-4002-b49b-a649329afb36"
      },
      "outputs": [
        {
          "name": "stdout",
          "output_type": "stream",
          "text": [
            "#Nodes 34\n",
            "#Edges 156\n"
          ]
        }
      ],
      "source": [
        "print('#Nodes', g.number_of_nodes())\n",
        "print('#Edges', g.number_of_edges())"
      ]
    },
    {
      "cell_type": "markdown",
      "metadata": {
        "id": "5uqD_4JHfiHs"
      },
      "source": [
        "We can also perform queries on the graph structures."
      ]
    },
    {
      "cell_type": "markdown",
      "metadata": {
        "id": "VbIbp4ITfiHs"
      },
      "source": [
        "Get the in-degree of node 0:"
      ]
    },
    {
      "cell_type": "code",
      "execution_count": null,
      "metadata": {
        "id": "c_CsjBw7fiHs",
        "outputId": "1cf5b138-f01f-4729-b018-66e4bea9314e"
      },
      "outputs": [
        {
          "name": "stderr",
          "output_type": "stream",
          "text": [
            "/home/ki/repos/dgl2/venv/lib/python3.10/site-packages/dgl/heterograph.py:3432: DGLWarning: DGLGraph.in_degree is deprecated. Please use DGLGraph.in_degrees\n",
            "  dgl_warning(\"DGLGraph.in_degree is deprecated. Please use DGLGraph.in_degrees\")\n"
          ]
        },
        {
          "data": {
            "text/plain": [
              "16"
            ]
          },
          "execution_count": 8,
          "metadata": {},
          "output_type": "execute_result"
        }
      ],
      "source": [
        "g.in_degree(0)"
      ]
    },
    {
      "cell_type": "markdown",
      "metadata": {
        "id": "Qw_Daq83fiHt"
      },
      "source": [
        "Get the successors of node 0:"
      ]
    },
    {
      "cell_type": "code",
      "execution_count": null,
      "metadata": {
        "id": "H5Yx0xbOfiHt",
        "outputId": "3d7201c8-73d7-4370-a1d8-ea0e2f64619f"
      },
      "outputs": [
        {
          "data": {
            "text/plain": [
              "tensor([ 1,  2,  3,  4,  5,  6,  7,  8, 10, 11, 12, 13, 17, 19, 21, 31])"
            ]
          },
          "execution_count": 9,
          "metadata": {},
          "output_type": "execute_result"
        }
      ],
      "source": [
        "g.successors(0)"
      ]
    },
    {
      "cell_type": "markdown",
      "metadata": {
        "id": "A9tFhEtQfiHt"
      },
      "source": [
        "DGL provides APIs for querying structural information. See the API document [here](https://docs.dgl.ai/api/python/heterograph.html#querying-graph-structure)."
      ]
    },
    {
      "cell_type": "markdown",
      "metadata": {
        "id": "ZoENKNHPfiHt"
      },
      "source": [
        "![image.png](https://github.com/karpovilia/dgl_temp/blob/main/src/01.%20Basics/images/dgl-query.png?raw=1)"
      ]
    },
    {
      "cell_type": "markdown",
      "metadata": {
        "id": "79p3TcaxfiHt"
      },
      "source": [
        "## Load node and edge features"
      ]
    },
    {
      "cell_type": "markdown",
      "metadata": {
        "id": "CrgUx7MIfiHt"
      },
      "source": [
        "In many graph data, nodes and edges have attributes. Although these attributes can have arbitrary types, a DGL graph only accepts attributes stored in tensors (with numerical contents). The vast development of deep learning has provided us many ways to vectorize various types of attributes into numerical features. Here are some general suggestions:\n",
        "* For categorical attributes (e.g. gender, occupation), consider converting them to integers or one-hot encoding.\n",
        "* For variable length string contents (e.g. news article, quote), consider applying a language model.\n",
        "* For images, consider applying a vision model such as CNNs.\n",
        "\n",
        "Our data set has the following attribute columns:\n",
        "* `Age` is already an integer attribute.\n",
        "* `Club` is a categorical attribute representing which community each member belongs to.\n",
        "* `Weight` is a floating number indicating the strength of each interaction."
      ]
    },
    {
      "cell_type": "code",
      "execution_count": null,
      "metadata": {
        "id": "V-4rHojBfiHt",
        "outputId": "01dafa88-0fbe-4cda-f12d-7f8822f0d7cc"
      },
      "outputs": [
        {
          "name": "stdout",
          "output_type": "stream",
          "text": [
            "tensor([0.4500, 0.3300, 0.3600, 0.3100, 0.4100, 0.4200, 0.4800, 0.4100, 0.3000,\n",
            "        0.3500, 0.3800, 0.4400, 0.3700, 0.3900, 0.3600, 0.3800, 0.4700, 0.4500,\n",
            "        0.4100, 0.3100, 0.3100, 0.4400, 0.4200, 0.3200, 0.3000, 0.5000, 0.3000,\n",
            "        0.4300, 0.4800, 0.4000, 0.3900, 0.4500, 0.4700, 0.3300])\n"
          ]
        }
      ],
      "source": [
        "import torch\n",
        "\n",
        "# Prepare the age node feature\n",
        "age = torch.tensor(nodes_data['Age'].to_numpy()).float() / 100\n",
        "print(age)"
      ]
    },
    {
      "cell_type": "code",
      "execution_count": null,
      "metadata": {
        "id": "1GrrJB3zfiHu",
        "outputId": "18ab69c1-ead6-4cc4-cc3a-eee71ad08ace"
      },
      "outputs": [
        {
          "data": {
            "text/plain": [
              "tensor([0.4500, 0.3800])"
            ]
          },
          "execution_count": 16,
          "metadata": {},
          "output_type": "execute_result"
        }
      ],
      "source": [
        "# Get the features of node 0 and 10\n",
        "age[[0, 10]]"
      ]
    },
    {
      "cell_type": "markdown",
      "metadata": {
        "id": "_M-0-eQ3fiHu"
      },
      "source": [
        "Use `g.ndata` to set the age features to the graph."
      ]
    },
    {
      "cell_type": "code",
      "execution_count": null,
      "metadata": {
        "id": "aScMHUDmfiHu",
        "outputId": "689d6cae-fdad-40ea-c937-b5f38d483c9c"
      },
      "outputs": [
        {
          "name": "stdout",
          "output_type": "stream",
          "text": [
            "Graph(num_nodes=34, num_edges=156,\n",
            "      ndata_schemes={'club': Scheme(shape=(), dtype=torch.int64), 'club_onehot': Scheme(shape=(2,), dtype=torch.int64), 'age': Scheme(shape=(), dtype=torch.float32)}\n",
            "      edata_schemes={})\n"
          ]
        }
      ],
      "source": [
        "# Feed the features to graph\n",
        "g.ndata['age'] = age\n",
        "print(g)"
      ]
    },
    {
      "cell_type": "code",
      "execution_count": null,
      "metadata": {
        "id": "U0bu_TA2fiHu",
        "outputId": "f87a5122-eb93-4218-ff71-44b3f5da9a52"
      },
      "outputs": [
        {
          "name": "stdout",
          "output_type": "stream",
          "text": [
            "tensor([[1, 0],\n",
            "        [1, 0],\n",
            "        [1, 0],\n",
            "        [1, 0],\n",
            "        [1, 0],\n",
            "        [1, 0],\n",
            "        [1, 0],\n",
            "        [1, 0],\n",
            "        [1, 0],\n",
            "        [0, 1],\n",
            "        [1, 0],\n",
            "        [1, 0],\n",
            "        [1, 0],\n",
            "        [1, 0],\n",
            "        [0, 1],\n",
            "        [0, 1],\n",
            "        [1, 0],\n",
            "        [1, 0],\n",
            "        [0, 1],\n",
            "        [1, 0],\n",
            "        [0, 1],\n",
            "        [1, 0],\n",
            "        [0, 1],\n",
            "        [0, 1],\n",
            "        [0, 1],\n",
            "        [0, 1],\n",
            "        [0, 1],\n",
            "        [0, 1],\n",
            "        [0, 1],\n",
            "        [0, 1],\n",
            "        [0, 1],\n",
            "        [0, 1],\n",
            "        [0, 1],\n",
            "        [0, 1]])\n",
            "Graph(num_nodes=34, num_edges=156,\n",
            "      ndata_schemes={'club': Scheme(shape=(), dtype=torch.int64), 'club_onehot': Scheme(shape=(2,), dtype=torch.int64)}\n",
            "      edata_schemes={})\n"
          ]
        }
      ],
      "source": [
        "# The \"Club\" column represents which community does each node belong to.\n",
        "# The values are of string type, so we must convert it to either categorical\n",
        "# integer values or one-hot encoding.\n",
        "\n",
        "club = nodes_data['Club'].to_list()\n",
        "# Convert to categorical integer values with 0 for 'Mr. Hi', 1 for 'Officer'.\n",
        "club = torch.tensor([c == 'Officer' for c in club]).long()\n",
        "\n",
        "# We can also convert it to one-hot encoding.\n",
        "club_onehot = torch.nn.functional.one_hot(club)\n",
        "print(club_onehot)\n",
        "\n",
        "# Use `g.ndata` like a normal dictionary\n",
        "g.ndata.update({'club' : club, 'club_onehot' : club_onehot})\n",
        "# Remove some features using del\n",
        "del g.ndata['age']\n",
        "\n",
        "print(g)"
      ]
    },
    {
      "cell_type": "markdown",
      "metadata": {
        "id": "v2co0efZfiHu"
      },
      "source": [
        "Feeding edge features to a DGL graph is similar."
      ]
    },
    {
      "cell_type": "code",
      "execution_count": null,
      "metadata": {
        "id": "mDXN8nPzfiHu",
        "outputId": "c374bf02-13da-4374-ebf4-46fc971f8f2b"
      },
      "outputs": [
        {
          "name": "stdout",
          "output_type": "stream",
          "text": [
            "Graph(num_nodes=34, num_edges=156,\n",
            "      ndata_schemes={'club': Scheme(shape=(), dtype=torch.int64), 'club_onehot': Scheme(shape=(2,), dtype=torch.int64)}\n",
            "      edata_schemes={'weight': Scheme(shape=(), dtype=torch.float64)})\n"
          ]
        }
      ],
      "source": [
        "# Get edge features from the DataFrame and feed it to graph.\n",
        "edge_weight = torch.tensor(edges_data['Weight'].to_numpy())\n",
        "# Similarly, use `g.edata` for getting/setting edge features.\n",
        "g.edata['weight'] = edge_weight\n",
        "print(g)"
      ]
    },
    {
      "cell_type": "code",
      "execution_count": null,
      "metadata": {
        "id": "pPWIhXlufiHu",
        "outputId": "d17bf952-a636-4c56-ff73-14e778828c59"
      },
      "outputs": [
        {
          "name": "stdout",
          "output_type": "stream",
          "text": [
            "Graph(num_nodes=34, num_edges=156,\n",
            "      ndata_schemes={'club': Scheme(shape=(), dtype=torch.int64), 'club_onehot': Scheme(shape=(2,), dtype=torch.int64), 'src_h': Scheme(shape=(4,), dtype=torch.float32), 'dst_h': Scheme(shape=(7,), dtype=torch.float32)}\n",
            "      edata_schemes={'weight': Scheme(shape=(), dtype=torch.float64)})\n"
          ]
        }
      ],
      "source": [
        "# Assign a random 4d features to srcdata, and 7d features to dstdata\n",
        "g.srcdata['src_h'] = torch.randn(34,4)\n",
        "g.dstdata['dst_h'] = torch.randn(34,7)\n",
        "\n",
        "print(g)"
      ]
    },
    {
      "cell_type": "markdown",
      "metadata": {
        "id": "2tWUAr16fiHv"
      },
      "source": [
        "In the graph `g`, the two node features are stored in ndata_schema. We can query these two features via `ndata` directly."
      ]
    },
    {
      "cell_type": "code",
      "execution_count": null,
      "metadata": {
        "id": "kUQPGTsEfiHv",
        "outputId": "96a8ab84-d474-4909-f1a4-598d693a7077"
      },
      "outputs": [
        {
          "name": "stdout",
          "output_type": "stream",
          "text": [
            "tensor([[-0.9939,  2.3482,  0.4566, -0.5814],\n",
            "        [-0.1365,  0.3217, -0.5298, -0.8264],\n",
            "        [-1.9704,  1.8314,  1.1045, -0.9595],\n",
            "        [-0.7427,  0.9603, -0.5527,  0.6198],\n",
            "        [ 1.7204,  0.3748,  0.2190,  0.3180],\n",
            "        [ 0.7588, -2.1265, -0.1758,  1.0318],\n",
            "        [ 1.4346, -0.5961, -0.0390, -0.3148],\n",
            "        [-0.4335, -0.4467,  1.5008,  0.6296],\n",
            "        [-2.2904,  0.5893, -0.5519, -0.0487],\n",
            "        [-0.6225,  0.4134,  0.4311, -0.8613],\n",
            "        [-0.3371,  0.4286,  1.3371, -0.7598],\n",
            "        [-0.0159, -2.0252,  1.6871, -0.2571],\n",
            "        [-0.6281, -1.7768,  1.8742, -2.0560],\n",
            "        [-0.9424,  2.5966, -1.1498,  0.0709],\n",
            "        [ 1.4918, -0.3698, -0.0627,  0.8293],\n",
            "        [-1.8742, -0.2072, -1.0412,  1.4942],\n",
            "        [ 0.8928,  0.1302, -0.4742, -0.2830],\n",
            "        [ 0.1554, -0.3505,  1.6249,  0.5786],\n",
            "        [ 0.6816,  0.2258, -1.2991,  0.9403],\n",
            "        [-0.4100,  1.7619,  0.4248,  0.0982],\n",
            "        [ 0.0801,  0.7462,  0.5747,  1.1392],\n",
            "        [ 0.6823, -0.1935, -0.2531,  1.7500],\n",
            "        [-0.2768, -1.1757, -0.2011,  1.0420],\n",
            "        [-0.0730, -0.3290,  0.5829,  1.0982],\n",
            "        [-0.4760,  0.4392, -2.0713,  1.2898],\n",
            "        [-0.4151, -0.3559, -0.9547,  0.8054],\n",
            "        [-0.6479, -0.1300, -0.1773, -0.4029],\n",
            "        [-0.3578,  0.1682, -0.2184,  1.2915],\n",
            "        [ 1.5088,  1.3627, -0.2046,  0.2089],\n",
            "        [ 1.2469, -0.6823, -0.6926, -0.0521],\n",
            "        [-0.2675,  0.0528,  0.3344, -1.7136],\n",
            "        [-0.3977,  1.7766,  0.3401,  0.0220],\n",
            "        [ 1.5662,  0.0433, -1.1838,  0.4549],\n",
            "        [ 0.1327, -0.1967, -0.8172,  0.6262]])\n"
          ]
        }
      ],
      "source": [
        "print(g.ndata['src_h'])"
      ]
    },
    {
      "cell_type": "markdown",
      "metadata": {
        "id": "TItBGtp9fiHv"
      },
      "source": [
        "In the heterogenous graph case, nodes in different relations become either source nodes or destination. Then `srcdata` and `dstdata` are specifically stored to these two types of nodes. For more details about heterogenous graphs, users can refer [DGL User Guide 1.5 Heterogeneous Graphs](https://docs.dgl.ai/guide/graph-heterogeneous.html#guide-graph-heterogeneous)"
      ]
    },
    {
      "cell_type": "code",
      "execution_count": null,
      "metadata": {
        "id": "EjnLLep1fiHv"
      },
      "outputs": [],
      "source": [
        "# Create a heterograph with 3 node types and 3 edges types.\n",
        "heterograph_data = {\n",
        "   ('drug', 'interacts', 'drug'): (torch.tensor([0, 1]), torch.tensor([1, 2])),\n",
        "   ('drug', 'interacts', 'gene'): (torch.tensor([0, 1]), torch.tensor([2, 3])),\n",
        "   ('drug', 'treats', 'disease'): (torch.tensor([1]), torch.tensor([2]))\n",
        "}\n",
        "hetero_g = dgl.heterograph(heterograph_data)\n",
        "print(hetero_g)"
      ]
    },
    {
      "cell_type": "code",
      "execution_count": null,
      "metadata": {
        "id": "Tp9NLxEzfiHv"
      },
      "outputs": [],
      "source": [
        "# Extract one relation 'durg->interacts->gene' out\n",
        "sub_g = dgl.edge_type_subgraph(hetero_g, [('drug', 'interacts', 'gene')])\n",
        "print(sub_g)"
      ]
    },
    {
      "cell_type": "code",
      "execution_count": null,
      "metadata": {
        "id": "xRfFtPFBfiHv"
      },
      "outputs": [],
      "source": [
        "# Assign features to source and destination nodes. Note that the number of drug nodes and gene nodes are different\n",
        "sub_g.srcdata['src_h'] = torch.randn(3,3)\n",
        "sub_g.dstdata['dst_h'] = torch.randn(4,2)\n",
        "print(sub_g)"
      ]
    },
    {
      "cell_type": "markdown",
      "metadata": {
        "id": "IFf_tDz7fiHv"
      },
      "source": [
        "More about the usage of `srcdata` and `dstdata` could be found in the 5_message_passing and tutorials at the large graph tasks."
      ]
    }
  ],
  "metadata": {
    "kernelspec": {
      "display_name": "Python 3",
      "language": "python",
      "name": "python3"
    },
    "language_info": {
      "codemirror_mode": {
        "name": "ipython",
        "version": 3
      },
      "file_extension": ".py",
      "mimetype": "text/x-python",
      "name": "python",
      "nbconvert_exporter": "python",
      "pygments_lexer": "ipython3",
      "version": "3.10.8"
    },
    "colab": {
      "provenance": []
    }
  },
  "nbformat": 4,
  "nbformat_minor": 0
}